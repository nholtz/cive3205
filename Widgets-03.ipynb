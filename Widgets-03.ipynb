{
 "cells": [
  {
   "cell_type": "markdown",
   "metadata": {},
   "source": [
    "### Third try for widgets\n",
    "\n",
    "See: https://ipywidgets.readthedocs.io/en/stable/examples/Using%20Interact.html\n",
    "\n",
    "and: https://ipywidgets.readthedocs.io/en/stable/examples/Widget%20Basics.html\n",
    "\n",
    "This notebook is a sandbox for exploring various techniques for developing widgets for design programs."
   ]
  },
  {
   "cell_type": "code",
   "execution_count": 1,
   "metadata": {},
   "outputs": [],
   "source": [
    "from ipywidgets import interact, interactive, fixed, interact_manual\n",
    "import ipywidgets as widgets\n",
    "from IPython.display import display\n",
    "\n",
    "from Designer import SST,show"
   ]
  },
  {
   "cell_type": "code",
   "execution_count": 2,
   "metadata": {},
   "outputs": [],
   "source": [
    "SECT = None   # holds the properties of one shape load from the steel tables\n",
    "WIDG = {}     # holds all the value widgets, indexed by property name\n",
    "\n",
    "def _makeFloat(key):\n",
    "    w = widgets.FloatText( value=0.0, description=key+':')\n",
    "    global WIDG\n",
    "    WIDG[key] = w\n",
    "    return w\n",
    "\n",
    "inputs = [_makeFloat(x.strip()) for x in 'Sx,Zx,Ix,Iy,J,Cw,D,B,T,W'.split(',')]\n",
    "\n",
    "output = widgets.Output(layout={'border': '1px solid black'})"
   ]
  },
  {
   "cell_type": "code",
   "execution_count": 3,
   "metadata": {},
   "outputs": [],
   "source": [
    "@output.capture(clear_output=True)\n",
    "def on_compute_clicked(b):\n",
    "    global SECT\n",
    "    global WIDG\n",
    "    for k,w in WIDG.items():\n",
    "        if hasattr(SECT,k):\n",
    "            setattr(SECT,k,w.value)\n",
    "    show('Dsg,*10^3,Sx,Zx,*10^6,Ix,Iy,*10^3,J,*10^9,Cw,*,D,B,T,W',object=SECT)"
   ]
  },
  {
   "cell_type": "code",
   "execution_count": 4,
   "metadata": {},
   "outputs": [],
   "source": [
    "@output.capture(clear_output=True)\n",
    "def on_load_clicked(b):\n",
    "    global WIDG\n",
    "    with output:\n",
    "        Dsg = WIDG['Dsg'].value\n",
    "        ##print('Dsg =',Dsg)\n",
    "        global SECT\n",
    "        SECT = SST.section(Dsg)\n",
    "        for key,w in WIDG.items():  # propagate values to widgets\n",
    "            if hasattr(SECT,key):\n",
    "                w.value = getattr(SECT,key)\n",
    "    ##output.clear_output()"
   ]
  },
  {
   "cell_type": "code",
   "execution_count": 5,
   "metadata": {},
   "outputs": [
    {
     "data": {
      "application/vnd.jupyter.widget-view+json": {
       "model_id": "582ef5e763a448998c44cbdecd49151a",
       "version_major": 2,
       "version_minor": 0
      },
      "text/plain": [
       "VBox(children=(HBox(children=(Text(value='W250x80', description='Dsg:', placeholder='Shape Designation'), Butt…"
      ]
     },
     "metadata": {},
     "output_type": "display_data"
    },
    {
     "data": {
      "application/vnd.jupyter.widget-view+json": {
       "model_id": "7fdfbed2231647dea1f743bef6867dd9",
       "version_major": 2,
       "version_minor": 0
      },
      "text/plain": [
       "Output(layout=Layout(border='1px solid black'))"
      ]
     },
     "metadata": {},
     "output_type": "display_data"
    }
   ],
   "source": [
    "WIDG['Dsg'] = widgets.Text(value='W250x80',\n",
    "                           placeholder='Shape Designation',\n",
    "                           description='Dsg:',\n",
    "                          tooltip='A shape designation to lookup for values.')\n",
    "lb = widgets.Button(description='Load Properties',\n",
    "                   tooltip='Click to load properties into entries below.')\n",
    "lb.on_click(on_load_clicked)\n",
    "top = widgets.HBox([WIDG['Dsg'],lb])\n",
    "b = widgets.Button(description='Compute!',tooltip='Click to perform calculations')\n",
    "b.on_click(on_compute_clicked)\n",
    "allwidg = widgets.VBox([top]+inputs+[b])\n",
    "display(allwidg)\n",
    "display(output)"
   ]
  },
  {
   "cell_type": "code",
   "execution_count": null,
   "metadata": {},
   "outputs": [],
   "source": []
  }
 ],
 "metadata": {
  "kernelspec": {
   "display_name": "Python 3",
   "language": "python",
   "name": "python3"
  },
  "language_info": {
   "codemirror_mode": {
    "name": "ipython",
    "version": 3
   },
   "file_extension": ".py",
   "mimetype": "text/x-python",
   "name": "python",
   "nbconvert_exporter": "python",
   "pygments_lexer": "ipython3",
   "version": "3.6.7"
  }
 },
 "nbformat": 4,
 "nbformat_minor": 2
}
