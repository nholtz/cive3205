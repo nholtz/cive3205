{
 "cells": [
  {
   "cell_type": "code",
   "execution_count": 1,
   "metadata": {},
   "outputs": [],
   "source": [
    "from utils import showImage, show\n",
    "from math import sqrt, pi"
   ]
  },
  {
   "cell_type": "code",
   "execution_count": 2,
   "metadata": {},
   "outputs": [],
   "source": [
    "from Designer import sst\n",
    "SST = sst.SST()"
   ]
  },
  {
   "cell_type": "code",
   "execution_count": 5,
   "metadata": {},
   "outputs": [
    {
     "name": "stdout",
     "output_type": "stream",
     "text": [
      "Dsg = C200x28\n",
      "Ac  = 3560\n",
      "Ixc = 1.82e+07\n",
      "Iyc = 8.3e+05\n",
      "xc  = 14.4\n",
      "dc  = 203\n"
     ]
    }
   ],
   "source": [
    "Dsg = 'C200x28'\n",
    "Ac,Ixc,Iyc,xc,dc = SST.section(Dsg,'A,Ix,Iy,X,D')\n",
    "show('Dsg,Ac,Ixc,Iyc,xc,dc')"
   ]
  },
  {
   "cell_type": "code",
   "execution_count": 24,
   "metadata": {},
   "outputs": [],
   "source": [
    "B = 260.\n",
    "W = B - 20.\n",
    "T = 12."
   ]
  },
  {
   "cell_type": "code",
   "execution_count": 25,
   "metadata": {},
   "outputs": [
    {
     "name": "stdout",
     "output_type": "stream",
     "text": [
      "B  = 260\n",
      "W  = 240\n",
      "T  = 12\n",
      "Ix = 1.03e+08\n",
      "Iy = 1.245e+08\n",
      "A  = 1.288e+04\n",
      "rx = 89.41\n",
      "ry = 98.3\n"
     ]
    }
   ],
   "source": [
    "Ix = 2*Ixc + 2*W*T*(dc/2. + T/2.)**2\n",
    "Iy = 2*Iyc + 2*T*W**3/12. + 2*Ac*(B/2. - xc)**2\n",
    "A = 2*Ac + 2*W*T\n",
    "rx = (Ix/A)**0.5\n",
    "ry = (Iy/A)**0.5\n",
    "show('B,W,T,Ix,Iy,A,rx,ry')"
   ]
  },
  {
   "cell_type": "code",
   "execution_count": 26,
   "metadata": {},
   "outputs": [
    {
     "name": "stdout",
     "output_type": "stream",
     "text": [
      "KLr   = 61.51\n",
      "Cr    = 2876\n",
      "Cr/Cf = 0.9917\n"
     ]
    }
   ],
   "source": [
    "L = 5500.\n",
    "Cf = 2900.\n",
    "Fy = 350.\n",
    "E = 200000.\n",
    "KLr = L/min(rx,ry)\n",
    "n = 1.34\n",
    "Fe = pi*pi*E/KLr**2\n",
    "lamda = sqrt(Fy/Fe)\n",
    "phi = 0.9\n",
    "Cr = (phi*A*Fy/((1.+lamda**(2*n))**(1./n))) * 1E-3\n",
    "show('KLr,Cr,Cr/Cf')"
   ]
  },
  {
   "cell_type": "code",
   "execution_count": null,
   "metadata": {},
   "outputs": [],
   "source": [
    "# check elastic local buckling"
   ]
  },
  {
   "cell_type": "code",
   "execution_count": null,
   "metadata": {},
   "outputs": [],
   "source": []
  }
 ],
 "metadata": {
  "kernelspec": {
   "display_name": "Python 3",
   "language": "python",
   "name": "python3"
  },
  "language_info": {
   "codemirror_mode": {
    "name": "ipython",
    "version": 3
   },
   "file_extension": ".py",
   "mimetype": "text/x-python",
   "name": "python",
   "nbconvert_exporter": "python",
   "pygments_lexer": "ipython3",
   "version": "3.6.3"
  }
 },
 "nbformat": 4,
 "nbformat_minor": 2
}
