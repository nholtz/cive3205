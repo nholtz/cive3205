{
 "cells": [
  {
   "cell_type": "markdown",
   "metadata": {},
   "source": [
    "## Beam Column Strength by 13.8.2 - class 1 and 2 I-shaped sections\n",
    "No lateral loads appplied to column."
   ]
  },
  {
   "cell_type": "code",
   "execution_count": 1,
   "metadata": {
    "collapsed": false
   },
   "outputs": [],
   "source": [
    "from utils import showImage, show\n",
    "from math import sqrt, pi"
   ]
  },
  {
   "cell_type": "code",
   "execution_count": 2,
   "metadata": {
    "collapsed": true
   },
   "outputs": [],
   "source": [
    "from Designer import sst\n",
    "SST = sst.SST()"
   ]
  },
  {
   "cell_type": "markdown",
   "metadata": {},
   "source": [
    "### Posted example BC-1"
   ]
  },
  {
   "cell_type": "code",
   "execution_count": 3,
   "metadata": {
    "collapsed": true
   },
   "outputs": [],
   "source": [
    "Dsg = 'W310x86'\n",
    "Lcol = 4300. # total length of column, in mm\n",
    "Lx = Lcol       # unbraced length, x-axis\n",
    "Ly = Lcol       # unbraced length, y-axis\n",
    "Kx = 1.      # effective length factor\n",
    "Ky = 1.\n",
    "Lc = Ly      # unbraced length of compression flange\n",
    "Cf = 1250.   # factored axial load, kN\n",
    "e = 0.130    # eccentricity of load, m\n",
    "Mfx1 = Cf*e  # moment about strong axis, top and bottom\n",
    "Mfx2 = -Cf*e\n",
    "Mfy1 = 0.    # momemt about weak axis, top and bottom\n",
    "Mfy2 = 0.\n",
    "bracedx = True   # braced for bending about strong axis?\n",
    "bracedy = True   # braced for bending about weak axis"
   ]
  },
  {
   "cell_type": "code",
   "execution_count": 4,
   "metadata": {
    "collapsed": true
   },
   "outputs": [],
   "source": [
    "Fy = 350.\n",
    "E = 200000.\n",
    "G = 77000.\n",
    "phi = 0.9"
   ]
  },
  {
   "cell_type": "code",
   "execution_count": 5,
   "metadata": {
    "collapsed": false
   },
   "outputs": [
    {
     "name": "stdout",
     "output_type": "stream",
     "text": [
      "Dsg = W310x86\n",
      "A   = 1.1e+04\n",
      "D   = 310\n",
      "T   = 16.3\n",
      "B   = 254\n",
      "W   = 9.1\n",
      "Rx  = 134\n",
      "Ry  = 63.6\n",
      "Ix  = 199 * 1E6\n",
      "Iy  = 44.5 * 1E6\n",
      "Zx  = 1420 * 1E3\n",
      "Zy  = 533 * 1E3\n",
      "J   = 877 * 1E3\n",
      "Cw  = 961 * 1E9\n"
     ]
    }
   ],
   "source": [
    "A,D,T,B,W,Ix,Iy,Zx,Zy,Rx,Ry,J,Cw = SST.section(Dsg,'A,D,T,B,W,Ix,Iy,Zx,Zy,Rx,Ry,J,Cw')\n",
    "show('Dsg,A,D,T,B,W,Rx,Ry,*1E6,Ix,Iy,*1E3,Zx,Zy,J,*1E9,Cw')"
   ]
  },
  {
   "cell_type": "markdown",
   "metadata": {},
   "source": [
    "#### Section class, local buckling"
   ]
  },
  {
   "cell_type": "code",
   "execution_count": 6,
   "metadata": {
    "collapsed": false
   },
   "outputs": [
    {
     "name": "stdout",
     "output_type": "stream",
     "text": [
      "B/(2.*T)                         = 7.791\n",
      "145./sqrt(Fy)                    = 7.751\n",
      "170./sqrt(Fy)                    = 9.087\n",
      "200./sqrt(Fy)                    = 10.69\n",
      "fclass                           = 2\n",
      "H                                = 277.4\n",
      "H/W                              = 30.48\n",
      "Cf/phiCy                         = 0.3608\n",
      "1100.*(1-0.39*Cf/phiCy)/sqrt(Fy) = 50.53\n",
      "1700.*(1-0.61*Cf/phiCy)/sqrt(Fy) = 70.87\n",
      "1900.*(1-0.65*Cf/phiCy)/sqrt(Fy) = 77.74\n",
      "wclass                           = 1\n",
      "sclass                           = 2\n",
      "sclass <= 2                      = True\n"
     ]
    }
   ],
   "source": [
    "fclass = 4\n",
    "if B/(2.*T) <= 145./sqrt(Fy):\n",
    "    fclass = 1\n",
    "elif B/(2.*T) <= 170./sqrt(Fy):\n",
    "    fclass = 2\n",
    "elif B/(2.*T) <= 200./sqrt(Fy):\n",
    "    fclass = 3\n",
    "    \n",
    "H = (D - 2.*T)\n",
    "phiCy = phi*A*Fy * 1E-3\n",
    "wclass = 4\n",
    "if (H/W) <= 1100.*(1-0.39*Cf/phiCy)/sqrt(Fy):\n",
    "    wclass = 1\n",
    "elif (H/W) <= 1700.*(1-0.61*Cf/phiCy)/sqrt(Fy):\n",
    "    wclass = 2\n",
    "elif (H/W) <= 1900.*(1-0.65*Cf/phiCy)/sqrt(Fy):\n",
    "    wclass = 3\n",
    "    \n",
    "sclass = max(fclass,wclass)\n",
    "show('B/(2.*T),145./sqrt(Fy),170./sqrt(Fy),200./sqrt(Fy),fclass',\n",
    "     'H,H/W,Cf/phiCy',\n",
    "     '1100.*(1-0.39*Cf/phiCy)/sqrt(Fy),1700.*(1-0.61*Cf/phiCy)/sqrt(Fy),1900.*(1-0.65*Cf/phiCy)/sqrt(Fy)'\n",
    "     ,'wclass,sclass,sclass <= 2')\n",
    "assert sclass <= 2, 'This only works for class 1 or class 2 sections'"
   ]
  },
  {
   "cell_type": "markdown",
   "metadata": {},
   "source": [
    "### 13.8.2 (a) -- cross-sectional strength:"
   ]
  },
  {
   "cell_type": "code",
   "execution_count": 7,
   "metadata": {
    "collapsed": false
   },
   "outputs": [
    {
     "name": "stdout",
     "output_type": "stream",
     "text": [
      "Mfx = 162.5\n",
      "Mfy = 0\n"
     ]
    }
   ],
   "source": [
    "Mfx = max(abs(Mfx1),abs(Mfx2))\n",
    "Mfy = max(abs(Mfy1),abs(Mfy2))\n",
    "show('Mfx,Mfy')"
   ]
  },
  {
   "cell_type": "code",
   "execution_count": 8,
   "metadata": {
    "collapsed": true
   },
   "outputs": [],
   "source": [
    "def kappa(Mf1,Mf2):    \n",
    "    Mfmax = max(abs(Mf1),abs(Mf2))\n",
    "    if Mfmax > 0.:\n",
    "        kap = min(abs(Mf1),abs(Mf2))/Mfmax\n",
    "        if Mf1*Mf2 > 0:\n",
    "            return kap\n",
    "        else:\n",
    "            return -kap\n",
    "    return 0.\n",
    "def U1(L,I,Cf,Mf1,Mf2):\n",
    "    w1 = max(0.6-0.4*kappa(Mf1,Mf2),0.4)\n",
    "    Ce = pi*pi*E*I/(L*L) * 1E-3\n",
    "    return w1/(1.-Cf/Ce)"
   ]
  },
  {
   "cell_type": "code",
   "execution_count": 9,
   "metadata": {
    "collapsed": false
   },
   "outputs": [
    {
     "name": "stdout",
     "output_type": "stream",
     "text": [
      "Cf               = 1250\n",
      "Cr               = 3465\n",
      "U1x              = 1.063\n",
      "Mfx              = 162.5\n",
      "Mrx              = 447.3\n",
      "Cf/Cr            = 0.3608\n",
      "0.85*U1x*Mfx/Mrx = 0.3281\n",
      "lhs_a      = 0.6889\n",
      "lhs_a <= 1 = True\n"
     ]
    }
   ],
   "source": [
    "if bracedx or bracedy:\n",
    "    Cr = phi*A*Fy * 1E-3\n",
    "    Mrx = phi*Zx*Fy * 1E-6\n",
    "    U1x = max(1.0,U1(Lx,Ix,Cf,Mfx1,Mfx2))    \n",
    "    lhs_a = Cf/Cr + 0.85*U1x*Mfx/Mrx\n",
    "    show('Cf,Cr,U1x,Mfx,Mrx,Cf/Cr,0.85*U1x*Mfx/Mrx')\n",
    "    if Mfy > 0.:\n",
    "        Mry = phi*Zy*Fy * 1E-6\n",
    "        Beta = 0.6\n",
    "        U1y = max(1.0,U1(Ly,Iy,Cf,Mfy1,Mfy2))\n",
    "        lhs_a += Beta*U1y*Mfy/Mry\n",
    "        show('Beta,U1y,Mfy,Mry,Beta*U1y*Mfy/Mry')\n",
    "else:\n",
    "    print 'Unbraced frame: cross-sectional strength not checked'\n",
    "    lhs_a = 0.\n",
    "show('lhs_a,lhs_a <= 1')"
   ]
  },
  {
   "cell_type": "markdown",
   "metadata": {},
   "source": [
    "### 13.8.2 (b) -- overall member strength"
   ]
  },
  {
   "cell_type": "code",
   "execution_count": 10,
   "metadata": {
    "collapsed": false
   },
   "outputs": [
    {
     "name": "stdout",
     "output_type": "stream",
     "text": [
      "Cf               = 1250\n",
      "K                = 1\n",
      "K*Lx/Rx          = 32.09\n",
      "K*Ly/Ry          = 67.61\n",
      "KLr              = 32.09\n",
      "Fe               = 1917\n",
      "lamda            = 0.4273\n",
      "n                = 1.34\n",
      "Cr               = 3222\n",
      "U1x              = 1.063\n",
      "Mfx              = 162.5\n",
      "Mrx              = 447.3\n",
      "Cf/Cr            = 0.388\n",
      "0.85*U1x*Mfx/Mrx = 0.3281\n",
      "lhs_b      = 0.7161\n",
      "lhs_b <= 1 = True\n"
     ]
    }
   ],
   "source": [
    "assert Mfx > 0. or Mfy > 0., \"No end bending moments in either direction\"\n",
    "K = 1.\n",
    "if Mfx > 0. and Mfy == 0.:\n",
    "    KLr = K*Lx/Rx\n",
    "elif Mfx == 0. and Mfy > 0.:\n",
    "    KLr = K*Ly/Ry\n",
    "else:\n",
    "    KLr = K*Ly/Ry\n",
    "# Cr by 13.3\n",
    "Fe = pi*pi*E/(KLr*KLr)\n",
    "lamda = sqrt(Fy/Fe)\n",
    "n = 1.34\n",
    "Cr = phi*A*Fy*(1.+lamda**(2*n))**(-1./n) * 1E-3\n",
    "Mrx = phi*Zx*Fy * 1E-6\n",
    "U1x = U1(Lx,Ix,Cf,Mfx1,Mfx2) if bracedx else 1.0\n",
    "lhs_b = Cf/Cr + 0.85*U1x*Mfx/Mrx\n",
    "show('Cf,K,K*Lx/Rx,K*Ly/Ry,KLr,Fe,lamda,n,Cr,U1x,Mfx,Mrx,Cf/Cr,0.85*U1x*Mfx/Mrx')\n",
    "if Mfy > 0.:\n",
    "    Mry = phi*Zy*Fy * 1E-6\n",
    "    KLry = Ky*Ly/Ry\n",
    "    Fey = pi*pi*E/(KLry*KLry)\n",
    "    lamday = sqrt(Fy/Fey)\n",
    "    Beta = min(0.85,0.6 + 0.4*lamday)\n",
    "    U1y = U1(Ly,Iy,Cf,Mfy1,Mfy2) if bracedy else 1.0\n",
    "    lhs_b += Beta*U1y*Mfy/Mry\n",
    "    show('lamday,Beta,U1y,Mfy,Mry,Beta*U1y*Mfy/Mry')\n",
    "show('lhs_b,lhs_b <= 1')"
   ]
  },
  {
   "cell_type": "markdown",
   "metadata": {},
   "source": [
    "### 13.8.2 (c) lateral torsional buckling strength"
   ]
  },
  {
   "cell_type": "code",
   "execution_count": 11,
   "metadata": {
    "collapsed": false
   },
   "outputs": [
    {
     "name": "stdout",
     "output_type": "stream",
     "text": [
      "Cf       = 1250\n",
      "Kx       = 1\n",
      "Lx       = 4300\n",
      "Rx       = 134\n",
      "Ky       = 1\n",
      "Ly       = 4300\n",
      "Ry       = 63.6\n",
      "Kx*Lx/Rx = 32.09\n",
      "Ky*Ly/Ry = 67.61\n",
      "KLr      = 67.61\n",
      "Fe       = 431.8\n",
      "lamda    = 0.9003\n",
      "n        = 1.34\n",
      "Cr       = 2278\n",
      "L                = 4300\n",
      "kap              = -1\n",
      "omega2           = 1\n",
      "Mu               = 899\n",
      "Mp               = 497\n",
      "Mfx              = 162.5\n",
      "U1x              = 1.063\n",
      "Mrx              = 434.8\n",
      "Cf/Cr            = 0.5488\n",
      "0.85*U1x*Mfx/Mrx = 0.3376\n",
      "lhs_c      = 0.8864\n",
      "lhs_c <= 1 = True\n"
     ]
    }
   ],
   "source": [
    "KLr = max(Kx*Lx/Rx,Ky*Ly/Ry)\n",
    "Fe = pi*pi*E/(KLr**2)\n",
    "lamda = sqrt(Fy/Fe)\n",
    "n = 1.34\n",
    "Cr = phi*A*Fy*(1.+lamda**(2*n))**(-1./n) * 1E-3\n",
    "show('Cf,Kx,Lx,Rx,Ky,Ly,Ry,Kx*Lx/Rx,Ky*Ly/Ry,KLr,Fe,lamda,n,Cr')\n",
    "L = Lc\n",
    "P = E*Iy*G*J\n",
    "Q = Iy*Cw*(pi*E/L)**2\n",
    "kap = kappa(Mfx1,Mfx2)\n",
    "omega2 = min(1.75 + 1.05*kap + 0.3*kap**2, 2.5)\n",
    "Mu = (omega2*pi/L) * sqrt(P+Q) * 1E-6\n",
    "Mp = Zx*Fy * 1E-6\n",
    "if Mu <= 0.67*Mp:\n",
    "    Mrx = phi*Mu\n",
    "else:\n",
    "    Mrx = min(1.15*phi*Mp*(1-0.28*Mp/Mu),phi*Mp)\n",
    "U1x = max(U1(Lx,Ix,Cf,Mfx1,Mfx2),1.0) if bracedx else 1.0\n",
    "show('L,kap,omega2,Mu,Mp,Mfx,U1x,Mrx,Cf/Cr,0.85*U1x*Mfx/Mrx')\n",
    "lhs_c = Cf/Cr + 0.85*U1x*Mfx/Mrx\n",
    "if Mfy > 0.:\n",
    "    Mry = phi*Zy*Fy * 1E-6\n",
    "    KLry = Ky*Ly/Ry\n",
    "    Fey = pi*pi*E/(KLry*KLry)\n",
    "    lamday = sqrt(Fy/Fey)\n",
    "    Beta = min(0.85,0.6 + 0.4*lamday)\n",
    "    U1y = U1(Ly,Iy,Cf,Mfy1,Mfy2) if bracedy else 1.0\n",
    "    lhs_c += Beta*U1y*Mfy/Mry\n",
    "    show('Mfy,lamday,Beta,U1y,Mry,Beta*U1y*Mfy/Mry')\n",
    "show('lhs_c,lhs_c <= 1')"
   ]
  },
  {
   "cell_type": "code",
   "execution_count": 13,
   "metadata": {
    "collapsed": false
   },
   "outputs": [
    {
     "name": "stdout",
     "output_type": "stream",
     "text": [
      "lhs_d     = 0.3738\n",
      "lhs_d < 1 = True\n"
     ]
    }
   ],
   "source": [
    "lhs_d = Mfx/Mrx\n",
    "if Mfy > 0.:\n",
    "    lhs_d += Mfy/Mry\n",
    "show('lhs_d, lhs_d < 1')"
   ]
  },
  {
   "cell_type": "code",
   "execution_count": null,
   "metadata": {
    "collapsed": false
   },
   "outputs": [],
   "source": [
    "if lhs_a <= 1 and lhs_b <= 1 and lhs_c < 1 and lhs_d < 1:\n",
    "    print Dsg, 'is OK!'\n",
    "else:\n",
    "    print Dsg, 'is NG!'"
   ]
  },
  {
   "cell_type": "code",
   "execution_count": null,
   "metadata": {
    "collapsed": true
   },
   "outputs": [],
   "source": []
  }
 ],
 "metadata": {
  "kernelspec": {
   "display_name": "Python 3",
   "language": "python",
   "name": "python3"
  },
  "language_info": {
   "codemirror_mode": {
    "name": "ipython",
    "version": 3
   },
   "file_extension": ".py",
   "mimetype": "text/x-python",
   "name": "python",
   "nbconvert_exporter": "python",
   "pygments_lexer": "ipython3",
   "version": "3.6.7"
  }
 },
 "nbformat": 4,
 "nbformat_minor": 2
}
