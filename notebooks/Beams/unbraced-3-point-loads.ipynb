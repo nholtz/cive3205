{
 "cells": [
  {
   "cell_type": "markdown",
   "metadata": {},
   "source": [
    "## Moment Capacity - Unsupported\n",
    "This example calculates the moment capacity  of a beam subjected to three concentrated forces, and checks the capacity against the applied moments.  Lateral supports are supplied at the ends and at the points of application of the loads.  All four segments are checked."
   ]
  },
  {
   "cell_type": "code",
   "execution_count": 1,
   "metadata": {
    "collapsed": true
   },
   "outputs": [],
   "source": [
    "from utils import show, call\n",
    "from sst import SST\n",
    "from S16_09 import calcMr"
   ]
  },
  {
   "cell_type": "code",
   "execution_count": 2,
   "metadata": {
    "collapsed": true
   },
   "outputs": [],
   "source": [
    "mySST = SST()"
   ]
  },
  {
   "cell_type": "markdown",
   "metadata": {},
   "source": [
    "![Unsupported Beam Bending](unbraced-3-point-loads.svg)"
   ]
  },
  {
   "cell_type": "code",
   "execution_count": 3,
   "metadata": {
    "collapsed": true
   },
   "outputs": [],
   "source": [
    "## input data\n",
    "L1 = 3.5\n",
    "L2 = 1.5\n",
    "L3 = 2.5\n",
    "L4 = 2.5\n",
    "P1F = 100.        # factored loads\n",
    "P2F = 120.\n",
    "P3F = 90.\n",
    "P1S = 0.4 * P1F   # service loads\n",
    "P2S = 0.4 * P2F\n",
    "P3S = 0.4 * P3F"
   ]
  },
  {
   "cell_type": "code",
   "execution_count": 4,
   "metadata": {},
   "outputs": [
    {
     "name": "stdout",
     "output_type": "stream",
     "text": [
      "R0F = 147.5\n",
      "R4F = 162.5\n",
      "M1F = 516.2\n",
      "M2F = 587.5\n",
      "M3F = 406.2\n"
     ]
    }
   ],
   "source": [
    "## calculate reactions and moments\n",
    "L = L1 + L2 + L3 + L4\n",
    "R4F = (P1F*L1 + P2F*(L1+L2) + P3F*(L1+L2+L3))/L\n",
    "R0F = P1F + P2F + P3F - R4F\n",
    "M1F = R0F*L1\n",
    "M2F = R0F*(L1+L2) - P1F*L2\n",
    "M3F = R4F*L4\n",
    "show('R0F,R4F,M1F,M2F,M3F')"
   ]
  },
  {
   "cell_type": "code",
   "execution_count": 5,
   "metadata": {
    "collapsed": true
   },
   "outputs": [],
   "source": [
    "## trial section and material properties\n",
    "Dsg = 'W530x74'\n",
    "trialSec = mySST.section(Dsg)\n",
    "Fy = 345.\n",
    "E = 200000."
   ]
  },
  {
   "cell_type": "code",
   "execution_count": 6,
   "metadata": {
    "collapsed": true
   },
   "outputs": [],
   "source": [
    "def sign(x):\n",
    "    return -1. if x < 0. else (+1. if x > 0. else 0.)\n",
    "def calcw2(M1,M2):\n",
    "    k = min(abs(M1),abs(M2))/max(abs(M1),abs(M2))\n",
    "    if sign(M1) == sign(M2):\n",
    "        k = -k\n",
    "    return min(1.75 + 1.05*k + 0.3*k*k,2.5)"
   ]
  },
  {
   "cell_type": "code",
   "execution_count": 7,
   "metadata": {},
   "outputs": [
    {
     "name": "stdout",
     "output_type": "stream",
     "text": [
      "Mf     = 516.2\n",
      "L      = 3500\n",
      "omega2 = 1.75\n",
      "Lu     = 2041\n",
      "Mr     = 516.8\n",
      "MrOK   = True\n"
     ]
    }
   ],
   "source": [
    "# Section 0 - 1\n",
    "L = L1*1000.\n",
    "Mf = abs(M1F)\n",
    "omega2 = calcw2(0.,M1F)\n",
    "Lu,Mr = call(calcMr,trialSec,Fy=Fy,L=L,omega2=omega2)\n",
    "MrOK = Mr >= Mf\n",
    "show('Mf,L,omega2,Lu,Mr,MrOK')"
   ]
  },
  {
   "cell_type": "code",
   "execution_count": 8,
   "metadata": {},
   "outputs": [
    {
     "name": "stdout",
     "output_type": "stream",
     "text": [
      "Mf     = 587.5\n",
      "L      = 1500\n",
      "omega2 = 1.059\n",
      "Lu     = 2041\n",
      "Mr     = 562\n",
      "MrOK   = False\n"
     ]
    }
   ],
   "source": [
    "# Section 1 - 2\n",
    "L = L2*1000.\n",
    "Mf = max(abs(M1F),abs(M2F))\n",
    "omega2 = calcw2(M1F,M2F)\n",
    "Lu,Mr = call(calcMr,trialSec,Fy=Fy,L=L,omega2=omega2)\n",
    "MrOK = Mr >= Mf\n",
    "show('Mf,L,omega2,Lu,Mr,MrOK')"
   ]
  },
  {
   "cell_type": "code",
   "execution_count": 9,
   "metadata": {},
   "outputs": [
    {
     "name": "stdout",
     "output_type": "stream",
     "text": [
      "Mf     = 587.5\n",
      "L      = 2500\n",
      "omega2 = 1.167\n",
      "Lu     = 2041\n",
      "Mr     = 540.6\n",
      "MrOK   = False\n"
     ]
    }
   ],
   "source": [
    "# Section 2 - 3\n",
    "L = L3*1000.\n",
    "Mf = max(abs(M2F),abs(M3F))\n",
    "omega2 = calcw2(M2F,M3F)\n",
    "Lu,Mr = call(calcMr,trialSec,Fy=Fy,L=L,omega2=omega2)\n",
    "MrOK = Mr >= Mf\n",
    "show('Mf,L,omega2,Lu,Mr,MrOK')"
   ]
  },
  {
   "cell_type": "code",
   "execution_count": 10,
   "metadata": {},
   "outputs": [
    {
     "name": "stdout",
     "output_type": "stream",
     "text": [
      "Mf     = 406.2\n",
      "L      = 2500\n",
      "omega2 = 1.75\n",
      "Lu     = 2041\n",
      "Mr     = 562\n",
      "MrOK   = True\n"
     ]
    }
   ],
   "source": [
    "# Section 3 - 4\n",
    "L = L4*1000.\n",
    "Mf = abs(M3F)\n",
    "omega2 = calcw2(M3F,0.)\n",
    "Lu,Mr = call(calcMr,trialSec,Fy=Fy,L=L,omega2=omega2)\n",
    "MrOK = Mr >= Mf\n",
    "show('Mf,L,omega2,Lu,Mr,MrOK')"
   ]
  },
  {
   "cell_type": "code",
   "execution_count": null,
   "metadata": {
    "collapsed": true
   },
   "outputs": [],
   "source": []
  }
 ],
 "metadata": {
  "kernelspec": {
   "display_name": "Python 2",
   "language": "python",
   "name": "python2"
  },
  "language_info": {
   "codemirror_mode": {
    "name": "ipython",
    "version": 2
   },
   "file_extension": ".py",
   "mimetype": "text/x-python",
   "name": "python",
   "nbconvert_exporter": "python",
   "pygments_lexer": "ipython2",
   "version": "2.7.6"
  },
  "widgets": {
   "state": {},
   "version": "1.1.1"
  }
 },
 "nbformat": 4,
 "nbformat_minor": 1
}
