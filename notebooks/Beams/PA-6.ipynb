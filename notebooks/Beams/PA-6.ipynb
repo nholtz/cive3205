{
 "cells": [
  {
   "cell_type": "code",
   "execution_count": 1,
   "metadata": {},
   "outputs": [],
   "source": [
    "from Designer import sst\n",
    "SST = sst.SST()\n",
    "Fy = 345."
   ]
  },
  {
   "cell_type": "code",
   "execution_count": 2,
   "metadata": {},
   "outputs": [
    {
     "data": {
      "text/plain": [
       "(254.0, 14.2, 253.0, 8.6)"
      ]
     },
     "execution_count": 2,
     "metadata": {},
     "output_type": "execute_result"
    }
   ],
   "source": [
    "b,d,t,w = SST.section('W250x73','B,D,T,W')\n",
    "b,t,d,w"
   ]
  },
  {
   "cell_type": "code",
   "execution_count": 6,
   "metadata": {},
   "outputs": [],
   "source": [
    "def calc_cm(l):\n",
    "    c1 = b*t*Fy\n",
    "    c2 = w*(d/2.-t)*Fy\n",
    "    j = 0.05 + 0.04*l\n",
    "    jd = j*d\n",
    "    c3 = w*jd*Fy\n",
    "    t1 = w*(d/2.-t-jd)*Fy\n",
    "    t2 = b*t*Fy\n",
    "    C = c1 + c2 + c3 - t1 - t2\n",
    "    M = c1*(d/2.-t/2.) + c2*(d/2.-t)/2. - c3*jd/2. + t1*(jd+(d/2.-t-jd)/2.) + t2*(d/2.-t/2.)\n",
    "    Mp = 2.*(c1*(d/2.-t/2.)+ c2*(d/2.-t)/2.)\n",
    "    Cy = 2.*(c1+c2)\n",
    "    return C*1E-3,M*1E-6,C/Cy,M/Mp"
   ]
  },
  {
   "cell_type": "code",
   "execution_count": 7,
   "metadata": {},
   "outputs": [
    {
     "data": {
      "text/plain": [
       "(375.32550000000003, 322.6978532925, 0.1189590996767689, 0.964522351546902)"
      ]
     },
     "execution_count": 7,
     "metadata": {},
     "output_type": "execute_result"
    }
   ],
   "source": [
    "calc_cm(5)"
   ]
  },
  {
   "cell_type": "code",
   "execution_count": 8,
   "metadata": {},
   "outputs": [
    {
     "name": "stdout",
     "output_type": "stream",
     "text": [
      "0 (75.0651000000001, 334.0927354725, 0.02379181993535381, 0.9985808940618761)\n",
      "1 (135.11718000000016, 333.0292131357, 0.04282527588363686, 0.9954020967604784)\n",
      "2 (195.16926, 331.3579637493, 0.06185873183191983, 0.9904068438582823)\n",
      "3 (255.22134000000008, 329.0789873133, 0.08089218778020288, 0.9835951353552874)\n",
      "4 (315.27342000000016, 326.1922838277, 0.09992564372848593, 0.974966971251494)\n",
      "5 (375.32550000000003, 322.6978532925, 0.1189590996767689, 0.964522351546902)\n",
      "6 (435.3775800000001, 318.5956957077, 0.13799255562505194, 0.9522612762415112)\n",
      "7 (495.4296600000002, 313.8858110733, 0.157026011573335, 0.938183745335322)\n",
      "8 (555.4817400000003, 308.5681993893, 0.17605946752161805, 0.922289758828334)\n",
      "9 (615.5338200000001, 302.6428606557, 0.19509292346990104, 0.9045793167205476)\n"
     ]
    }
   ],
   "source": [
    "for l in range(10):\n",
    "    print(l,calc_cm(l))"
   ]
  },
  {
   "cell_type": "code",
   "execution_count": null,
   "metadata": {},
   "outputs": [],
   "source": []
  }
 ],
 "metadata": {
  "kernelspec": {
   "display_name": "Python 3",
   "language": "python",
   "name": "python3"
  },
  "language_info": {
   "codemirror_mode": {
    "name": "ipython",
    "version": 3
   },
   "file_extension": ".py",
   "mimetype": "text/x-python",
   "name": "python",
   "nbconvert_exporter": "python",
   "pygments_lexer": "ipython3",
   "version": "3.6.3"
  }
 },
 "nbformat": 4,
 "nbformat_minor": 2
}
