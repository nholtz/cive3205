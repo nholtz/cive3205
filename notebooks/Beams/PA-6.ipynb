{
 "cells": [
  {
   "cell_type": "code",
   "execution_count": 5,
   "metadata": {},
   "outputs": [],
   "source": [
    "from Designer import sst\n",
    "SST = sst.SST()\n",
    "Fy = 345."
   ]
  },
  {
   "cell_type": "code",
   "execution_count": 6,
   "metadata": {},
   "outputs": [
    {
     "data": {
      "text/plain": [
       "(254.0, 14.199999999999999, 253.0, 8.5999999999999996)"
      ]
     },
     "execution_count": 6,
     "metadata": {},
     "output_type": "execute_result"
    }
   ],
   "source": [
    "b,d,t,w = SST.section('W250x73','B,D,T,W')\n",
    "b,t,d,w"
   ]
  },
  {
   "cell_type": "code",
   "execution_count": 12,
   "metadata": {},
   "outputs": [],
   "source": [
    "def calc_cm(l):\n",
    "    c1 = b*t*Fy\n",
    "    c2 = w*(d/2.-t)*Fy\n",
    "    j = 0.05 + 0.04*l\n",
    "    jd = j*d\n",
    "    c3 = w*jd*Fy\n",
    "    t1 = w*(d/2.-t-jd)*Fy\n",
    "    t2 = b*t*Fy\n",
    "    C = c1 + c2 + c3 - t1 - t2\n",
    "    M = c1*(d/2.-t/2.) + c2*(d/2.-t)/2. - c3*jd/2. + t1*(jd+(d/2.-t-jd)/2.) + t2*(d/2.-t/2.)\n",
    "    Mp = 2.*(c1*(d/2.-t/2.)+ c2*(d/2.-t)/2.)\n",
    "    Cy = 2.*(c1+c2)\n",
    "    return C*1E-3,M*1E-6,C/Cy,M/Mp"
   ]
  },
  {
   "cell_type": "code",
   "execution_count": 13,
   "metadata": {},
   "outputs": [
    {
     "data": {
      "text/plain": [
       "(375.32550000000003,\n",
       " 322.69785329249999,\n",
       " 0.1189590996767689,\n",
       " 0.96452235154690202)"
      ]
     },
     "execution_count": 13,
     "metadata": {},
     "output_type": "execute_result"
    }
   ],
   "source": [
    "calc_cm(5)"
   ]
  },
  {
   "cell_type": "code",
   "execution_count": 14,
   "metadata": {},
   "outputs": [
    {
     "name": "stdout",
     "output_type": "stream",
     "text": [
      "0 (75.065100000000101, 334.09273547250001, 0.023791819935353811, 0.99858089406187611)\n",
      "1 (135.11718000000016, 333.02921313569999, 0.042825275883636861, 0.99540209676047842)\n",
      "2 (195.16926000000001, 331.35796374929998, 0.061858731831919832, 0.99040684385828226)\n",
      "3 (255.22134000000008, 329.07898731329999, 0.080892187780202879, 0.98359513535528742)\n",
      "4 (315.27342000000016, 326.19228382770001, 0.099925643728485933, 0.97496697125149401)\n",
      "5 (375.32550000000003, 322.69785329249999, 0.1189590996767689, 0.96452235154690202)\n",
      "6 (435.37758000000008, 318.59569570769997, 0.13799255562505194, 0.95226127624151125)\n",
      "7 (495.42966000000018, 313.88581107329998, 0.15702601157333501, 0.93818374533532201)\n",
      "8 (555.48174000000029, 308.56819938929999, 0.17605946752161805, 0.92228975882833397)\n",
      "9 (615.53382000000011, 302.64286065570002, 0.19509292346990104, 0.90457931672054759)\n"
     ]
    }
   ],
   "source": [
    "for l in range(10):\n",
    "    print(l,calc_cm(l))"
   ]
  },
  {
   "cell_type": "code",
   "execution_count": null,
   "metadata": {},
   "outputs": [],
   "source": []
  }
 ],
 "metadata": {
  "kernelspec": {
   "display_name": "Python 3",
   "language": "python",
   "name": "python3"
  },
  "language_info": {
   "codemirror_mode": {
    "name": "ipython",
    "version": 3
   },
   "file_extension": ".py",
   "mimetype": "text/x-python",
   "name": "python",
   "nbconvert_exporter": "python",
   "pygments_lexer": "ipython3",
   "version": "3.6.3"
  }
 },
 "nbformat": 4,
 "nbformat_minor": 2
}
