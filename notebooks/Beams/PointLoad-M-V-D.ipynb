{
 "cells": [
  {
   "cell_type": "markdown",
   "metadata": {},
   "source": [
    "### Equally spaced point loads"
   ]
  },
  {
   "cell_type": "code",
   "execution_count": 3,
   "metadata": {},
   "outputs": [],
   "source": [
    "s = 3.2\n",
    "w = 12.\n",
    "Pd = 4.2*s*w\n",
    "Pl = 2.8*s*w\n",
    "Pf = 1.25*Pd + 1.5*Pl\n",
    "L = 5*s\n",
    "Pls = [(s,Pl),(2*s,Pl),(3*s,Pl),(4*s,Pl)]\n",
    "Pfs = [(s,Pf),(2*s,Pf),(3*s,Pf),(4*s,Pf)]"
   ]
  },
  {
   "cell_type": "code",
   "execution_count": 8,
   "metadata": {},
   "outputs": [
    {
     "data": {
      "text/plain": [
       "[725.76, 362.88, 0.0, -362.88, -725.76]"
      ]
     },
     "execution_count": 8,
     "metadata": {},
     "output_type": "execute_result"
    }
   ],
   "source": [
    "Rfr = sum([d*p for d,p in Pfs])/L\n",
    "Rfl = sum([p for d,p in Pfs]) - Rfr\n",
    "Vf = [Rfl] * (len(Pfs)+1)\n",
    "for i in range(len(Pfs)):\n",
    "    Vf[i+1] = Vf[i] - Pfs[i][1]\n",
    "Vf"
   ]
  },
  {
   "cell_type": "code",
   "execution_count": 9,
   "metadata": {},
   "outputs": [
    {
     "data": {
      "text/plain": [
       "[0, 2322.4320000000002, 3483.648, 3483.648, 2322.432, 0]"
      ]
     },
     "execution_count": 9,
     "metadata": {},
     "output_type": "execute_result"
    }
   ],
   "source": [
    "Mf = [0] * (len(Pfs)+2)\n",
    "for i in range(len(Pfs)):\n",
    "    Mf[i+1] = Mf[i] + Vf[i]*s\n",
    "Mf"
   ]
  },
  {
   "cell_type": "code",
   "execution_count": 12,
   "metadata": {},
   "outputs": [
    {
     "data": {
      "text/plain": [
       "[0.0,\n",
       " 1760.4332748799993,\n",
       " 3513.8201190399986,\n",
       " 5253.114101759998,\n",
       " 6971.268792319997,\n",
       " 8661.237759999998,\n",
       " 10315.974574079995,\n",
       " 11928.432803839998,\n",
       " 13491.566018559995,\n",
       " 14998.327787519993,\n",
       " 16441.671679999992,\n",
       " 17815.138467839995,\n",
       " 18027.588354047995,\n",
       " 19262.710218751996,\n",
       " 20433.709563903998,\n",
       " 21535.653887999993,\n",
       " 22563.61068953599,\n",
       " 23512.647467007995,\n",
       " 24377.831718911995,\n",
       " 25154.230943743998,\n",
       " 25836.912639999995,\n",
       " 26421.531508735992,\n",
       " 26601.685254143995,\n",
       " 27081.547186175998,\n",
       " 27464.168374271994,\n",
       " 27745.32095999999,\n",
       " 27920.77708492799,\n",
       " 27986.308890623994,\n",
       " 27937.688518655996,\n",
       " 27770.688110591997,\n",
       " 27481.079807999995,\n",
       " 27065.81015756799,\n",
       " 25359.634399231996,\n",
       " 25866.037886975995,\n",
       " 23794.387255295987,\n",
       " 24192.745471999995,\n",
       " 21857.088569343996,\n",
       " 22068.481490943996,\n",
       " 19559.012630527995,\n",
       " 19515.79452211199,\n",
       " 16911.43372799999,\n",
       " 16558.407548927993,\n",
       " 12040.940814336,\n",
       " 13247.054872575998,\n",
       " 9149.085646847998,\n",
       " 9659.482111999994,\n",
       " 6155.7618769919945,\n",
       " 5874.609291263992,\n",
       " 3094.792372224002,\n",
       " 1971.3564344320012,\n",
       " 0.0]"
      ]
     },
     "execution_count": 12,
     "metadata": {},
     "output_type": "execute_result"
    }
   ],
   "source": [
    "N = 50\n",
    "h = L/float(N)\n",
    "D = [0] * (N+1)\n",
    "for a,P in Pls:\n",
    "    b = L - a\n",
    "    for i in range(N+1):\n",
    "        x = i*h\n",
    "        if x > a:\n",
    "            a,b = b,a\n",
    "            x = L -x\n",
    "        D[i] += (P*b*x/(6.*L))*(L**2 - b**2 - x**2)\n",
    "D"
   ]
  },
  {
   "cell_type": "markdown",
   "metadata": {},
   "source": [
    "EI D kn-m**3"
   ]
  },
  {
   "cell_type": "code",
   "execution_count": 13,
   "metadata": {},
   "outputs": [
    {
     "data": {
      "text/plain": [
       "27986.308890623994"
      ]
     },
     "execution_count": 13,
     "metadata": {},
     "output_type": "execute_result"
    }
   ],
   "source": [
    "max(D)"
   ]
  },
  {
   "cell_type": "code",
   "execution_count": null,
   "metadata": {},
   "outputs": [],
   "source": []
  }
 ],
 "metadata": {
  "kernelspec": {
   "display_name": "Python 3",
   "language": "python",
   "name": "python3"
  },
  "language_info": {
   "codemirror_mode": {
    "name": "ipython",
    "version": 3
   },
   "file_extension": ".py",
   "mimetype": "text/x-python",
   "name": "python",
   "nbconvert_exporter": "python",
   "pygments_lexer": "ipython3",
   "version": "3.6.3"
  }
 },
 "nbformat": 4,
 "nbformat_minor": 2
}
