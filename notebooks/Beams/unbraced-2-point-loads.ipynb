{
 "cells": [
  {
   "cell_type": "markdown",
   "metadata": {},
   "source": [
    "## Moment Capacity - Unsupported\n",
    "This example calculates the moment capacity  of a beam subjected to two concentrated forces, and checks the capacity against the applied moments.  Lateral supports are supplied at the ends and at the points of application of the loads.  All segments are checked."
   ]
  },
  {
   "cell_type": "code",
   "execution_count": 1,
   "metadata": {
    "collapsed": true
   },
   "outputs": [],
   "source": [
    "from utils import show, call\n",
    "from sst import SST\n",
    "from S16_09 import calcMr"
   ]
  },
  {
   "cell_type": "code",
   "execution_count": 2,
   "metadata": {
    "collapsed": true
   },
   "outputs": [],
   "source": [
    "mySST = SST()"
   ]
  },
  {
   "cell_type": "markdown",
   "metadata": {},
   "source": [
    "![Unsupported Beam Bending](unbraced-2-point-loads.svg)"
   ]
  },
  {
   "cell_type": "code",
   "execution_count": 3,
   "metadata": {
    "collapsed": true
   },
   "outputs": [],
   "source": [
    "## input data\n",
    "L1 = 4.\n",
    "L2 = 2.5\n",
    "L3 = 4.\n",
    "P1F = 120.        # factored loads\n",
    "P2F = 140.\n",
    "P1S = 0.4 * P1F   # service loads\n",
    "P2S = 0.4 * P2F"
   ]
  },
  {
   "cell_type": "code",
   "execution_count": 4,
   "metadata": {},
   "outputs": [
    {
     "name": "stdout",
     "output_type": "stream",
     "text": [
      "R0F = 127.6\n",
      "R3F = 132.4\n",
      "M1F = 510.5\n",
      "M2F = 529.5\n"
     ]
    }
   ],
   "source": [
    "## calculate reactions and moments\n",
    "L = L1 + L2 + L3\n",
    "R3F = (P1F*L1 + P2F*(L1+L2))/L\n",
    "R0F = P1F + P2F - R3F\n",
    "M1F = R0F*L1\n",
    "M2F = R0F*(L1+L2) - P1F*L2\n",
    "show('R0F,R3F,M1F,M2F')"
   ]
  },
  {
   "cell_type": "code",
   "execution_count": 5,
   "metadata": {
    "collapsed": true
   },
   "outputs": [],
   "source": [
    "## trial section and material properties\n",
    "Dsg = 'W530x74'\n",
    "trialSec = mySST.section(Dsg)\n",
    "Fy = 350.\n",
    "E = 200000."
   ]
  },
  {
   "cell_type": "code",
   "execution_count": 6,
   "metadata": {
    "collapsed": true
   },
   "outputs": [],
   "source": [
    "def sign(x):\n",
    "    return -1. if x < 0. else (+1. if x > 0. else 0.)\n",
    "def calcw2(M1,M2):\n",
    "    k = min(abs(M1),abs(M2))/max(abs(M1),abs(M2))\n",
    "    if sign(M1) == sign(M2):\n",
    "        k = -k\n",
    "    return min(1.75 + 1.05*k + 0.3*k*k,2.5)"
   ]
  },
  {
   "cell_type": "code",
   "execution_count": 7,
   "metadata": {},
   "outputs": [
    {
     "name": "stdout",
     "output_type": "stream",
     "text": [
      "Mf     = 510.5\n",
      "L      = 4000\n",
      "omega2 = 1.75\n",
      "Lu     = 2026\n",
      "Mr     = 487.9\n",
      "MrOK   = False\n"
     ]
    }
   ],
   "source": [
    "# Section 0 - 1\n",
    "L = L1*1000.\n",
    "Mf = abs(M1F)\n",
    "omega2 = calcw2(0.,M1F)\n",
    "Lu,Mr = call(calcMr,trialSec,Fy=Fy,L=L,omega2=omega2)\n",
    "MrOK = Mr >= Mf\n",
    "show('Mf,L,omega2,Lu,Mr,MrOK')"
   ]
  },
  {
   "cell_type": "code",
   "execution_count": 8,
   "metadata": {},
   "outputs": [
    {
     "name": "stdout",
     "output_type": "stream",
     "text": [
      "Mf     = 529.5\n",
      "L      = 2500\n",
      "omega2 = 1.017\n",
      "Lu     = 2026\n",
      "Mr     = 530.8\n",
      "MrOK   = True\n"
     ]
    }
   ],
   "source": [
    "# Section 1 - 2\n",
    "L = L2*1000.\n",
    "Mf = max(abs(M1F),abs(M2F))\n",
    "omega2 = calcw2(M1F,M2F)\n",
    "Lu,Mr = call(calcMr,trialSec,Fy=Fy,L=L,omega2=omega2)\n",
    "MrOK = Mr >= Mf\n",
    "show('Mf,L,omega2,Lu,Mr,MrOK')"
   ]
  },
  {
   "cell_type": "code",
   "execution_count": 9,
   "metadata": {},
   "outputs": [
    {
     "name": "stdout",
     "output_type": "stream",
     "text": [
      "Mf     = 529.5\n",
      "L      = 4000\n",
      "omega2 = 1.75\n",
      "Lu     = 2026\n",
      "Mr     = 487.9\n",
      "MrOK   = False\n"
     ]
    }
   ],
   "source": [
    "# Section 2 - 3\n",
    "L = L3*1000.\n",
    "Mf = abs(M2F)\n",
    "omega2 = calcw2(M2F,0.)\n",
    "Lu,Mr = call(calcMr,trialSec,Fy=Fy,L=L,omega2=omega2)\n",
    "MrOK = Mr >= Mf\n",
    "show('Mf,L,omega2,Lu,Mr,MrOK')"
   ]
  },
  {
   "cell_type": "code",
   "execution_count": 10,
   "metadata": {
    "collapsed": true
   },
   "outputs": [],
   "source": [
    "def calcDelta(P,a,l,E=E,I=1.):\n",
    "    b = l - a\n",
    "    x = l/2.\n",
    "    if a < x:\n",
    "        a,b = b,a\n",
    "    return P*b*x*(l*l-b*b-x*x)/(6.*E*I*l)"
   ]
  },
  {
   "cell_type": "code",
   "execution_count": 11,
   "metadata": {},
   "outputs": [
    {
     "name": "stdout",
     "output_type": "stream",
     "text": [
      "L     = 1.05e+04\n",
      "delta = 28.12\n",
      "ratio = 373.3\n"
     ]
    }
   ],
   "source": [
    "L = (L1+L2+L3)*1000.\n",
    "delta = calcDelta(P1S*1000.,L1*1000.,L,I=trialSec.Ix) + calcDelta(P2S*1000.,(L1+L2)*1000.,L,I=trialSec.Ix)\n",
    "ratio = L/delta\n",
    "show('L,delta,ratio')"
   ]
  },
  {
   "cell_type": "code",
   "execution_count": null,
   "metadata": {
    "collapsed": true
   },
   "outputs": [],
   "source": []
  }
 ],
 "metadata": {
  "kernelspec": {
   "display_name": "Python 2",
   "language": "python",
   "name": "python2"
  },
  "language_info": {
   "codemirror_mode": {
    "name": "ipython",
    "version": 2
   },
   "file_extension": ".py",
   "mimetype": "text/x-python",
   "name": "python",
   "nbconvert_exporter": "python",
   "pygments_lexer": "ipython2",
   "version": "2.7.6"
  },
  "widgets": {
   "state": {},
   "version": "1.1.1"
  }
 },
 "nbformat": 4,
 "nbformat_minor": 1
}
