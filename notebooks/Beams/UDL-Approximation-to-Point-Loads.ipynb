{
 "cells": [
  {
   "cell_type": "markdown",
   "metadata": {},
   "source": [
    "## Approximating equal point loads with a UDL"
   ]
  },
  {
   "cell_type": "code",
   "execution_count": 1,
   "metadata": {
    "collapsed": true
   },
   "outputs": [],
   "source": [
    "def calc(w,L,N):\n",
    "    appM = w*L*L/8.\n",
    "    appD = 5*w*L**4./384.\n",
    "    S = L/(N+1.)\n",
    "    P = w*S\n",
    "    R = P*N/2.\n",
    "    M = R*L/2.\n",
    "    for i in range(N):\n",
    "        x = L/2. - S*(i+1.)\n",
    "        if x < 0.:\n",
    "            break\n",
    "        M -= P*x\n",
    "        #print i,x,M\n",
    "    D = 0.\n",
    "    for i in range(N):\n",
    "        a = S*(i+1)\n",
    "        b = L-a\n",
    "        x = L/2.\n",
    "        if x > a:\n",
    "            a,b = b,a\n",
    "        D += P*b*x*(L*L-b*b-x*x)/(6.*L)\n",
    "    return (appM,M,appD,D)"
   ]
  },
  {
   "cell_type": "code",
   "execution_count": 2,
   "metadata": {},
   "outputs": [
    {
     "name": "stdout",
     "output_type": "stream",
     "text": [
      "1 1.0 1.25\n",
      "2 1.125 1.10054347826\n",
      "3 1.0 1.05263157895\n",
      "4 1.04166666667 1.0333994709\n",
      "5 1.0 1.02272727273\n",
      "6 1.02083333333 1.01668360434\n",
      "7 1.0 1.01265822785\n",
      "8 1.0125 1.01000615764\n",
      "9 1.0 1.00806451613\n",
      "10 1.00833333333 1.00666941694\n",
      "11 1.0 1.00558659218\n",
      "12 1.00595238095 1.00476331194\n",
      "13 1.0 1.00409836066\n",
      "14 1.00446428571 1.00357222152\n",
      "15 1.0 1.00313479624\n",
      "16 1.00347222222 1.00277825803\n",
      "17 1.0 1.00247524752\n",
      "18 1.00277777778 1.00222252984\n",
      "19 1.0 1.00200400802\n",
      "20 1.00227272727 1.00181838787\n"
     ]
    }
   ],
   "source": [
    "for n in range(20):\n",
    "    appM,M,appD,D = calc(1,16,n+1)\n",
    "    print n+1,appM/M,appD/D"
   ]
  },
  {
   "cell_type": "code",
   "execution_count": null,
   "metadata": {
    "collapsed": true
   },
   "outputs": [],
   "source": []
  }
 ],
 "metadata": {
  "kernelspec": {
   "display_name": "Python 2",
   "language": "python",
   "name": "python2"
  },
  "language_info": {
   "codemirror_mode": {
    "name": "ipython",
    "version": 2
   },
   "file_extension": ".py",
   "mimetype": "text/x-python",
   "name": "python",
   "nbconvert_exporter": "python",
   "pygments_lexer": "ipython2",
   "version": "2.7.6"
  },
  "widgets": {
   "state": {},
   "version": "1.1.1"
  }
 },
 "nbformat": 4,
 "nbformat_minor": 1
}
