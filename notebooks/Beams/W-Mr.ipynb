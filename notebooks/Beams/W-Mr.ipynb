{
 "cells": [
  {
   "cell_type": "code",
   "execution_count": 2,
   "metadata": {},
   "outputs": [],
   "source": [
    "from math import sqrt, pi\n",
    "from utils import show\n",
    "from Designer import sst\n",
    "SST = sst.SST()"
   ]
  },
  {
   "cell_type": "code",
   "execution_count": 3,
   "metadata": {},
   "outputs": [
    {
     "name": "stdout",
     "output_type": "stream",
     "text": [
      "Fy  = 345\n",
      "E   = 2e+05\n",
      "G   = 7.7e+04\n",
      "phi = 0.9\n"
     ]
    }
   ],
   "source": [
    "Fy = 345.\n",
    "E = 200000.\n",
    "G = 77000.\n",
    "phi = 0.9\n",
    "show('Fy,E,G,phi')"
   ]
  },
  {
   "cell_type": "code",
   "execution_count": 4,
   "metadata": {},
   "outputs": [],
   "source": [
    "Dsg = 'W1000x249'\n",
    "L = 3200\n",
    "omega2 = 1."
   ]
  },
  {
   "cell_type": "code",
   "execution_count": 11,
   "metadata": {},
   "outputs": [
    {
     "name": "stdout",
     "output_type": "stream",
     "text": [
      "Dsg    = W1000x249\n",
      "Ix     = 4.81e+09\n",
      "Iy     = 1.18e+08\n",
      "Sx     = 9.82e+06\n",
      "Zx     = 1.13e+07\n",
      "J      = 5.82e+06\n",
      "Cw     = 2.67e+13\n",
      "d      = 980\n",
      "b      = 300\n",
      "t      = 26\n",
      "w      = 16.5\n",
      "L      = 3200\n",
      "omega2 = 1\n"
     ]
    }
   ],
   "source": [
    "Ix,Sx,Zx,Iy,J,Cw,d,b,t,w = SST.section(Dsg,'Ix,Sx,Zx,Iy,J,Cw,D,B,T,W')\n",
    "show('Dsg,Ix,Iy,Sx,Zx,J,Cw,d,b,t,w,L,omega2')"
   ]
  },
  {
   "cell_type": "code",
   "execution_count": 6,
   "metadata": {},
   "outputs": [
    {
     "name": "stdout",
     "output_type": "stream",
     "text": [
      "bt            = 5.769\n",
      "145/sqrt(Fy)  = 7.807\n",
      "170/sqrt(Fy)  = 9.152\n",
      "200/sqrt(Fy)  = 10.77\n",
      "fclass        = 1\n",
      "hw            = 56.24\n",
      "1100/sqrt(Fy) = 59.22\n",
      "1700/sqrt(Fy) = 91.52\n",
      "1900/sqrt(Fy) = 102.3\n",
      "wclass        = 1\n",
      "sclass        = 1\n"
     ]
    }
   ],
   "source": [
    "bt = (b/2.)/t\n",
    "if bt <= 145./sqrt(Fy):\n",
    "    fclass = 1\n",
    "elif bt <= 170./sqrt(Fy):\n",
    "    fclass = 2\n",
    "elif bt <= 200./sqrt(Fy):\n",
    "    fclass = 3\n",
    "else:\n",
    "    fclass = 4\n",
    "hw = (d-2.*t)/w\n",
    "if hw <= 1100./sqrt(Fy):\n",
    "    wclass = 1\n",
    "elif hw <= 1700./sqrt(Fy):\n",
    "    wclass = 2\n",
    "elif hw <= 1900./sqrt(Fy):\n",
    "    wclass = 3\n",
    "else:\n",
    "    wclass = 4\n",
    "sclass = max(fclass,wclass)\n",
    "show('bt,145/sqrt(Fy),170/sqrt(Fy),200/sqrt(Fy),fclass,hw,1100/sqrt(Fy),1700/sqrt(Fy),1900/sqrt(Fy),wclass,sclass')"
   ]
  },
  {
   "cell_type": "code",
   "execution_count": 7,
   "metadata": {},
   "outputs": [
    {
     "name": "stdout",
     "output_type": "stream",
     "text": [
      "P       = 1.058e+25\n",
      "Q       = 1.215e+26\n",
      "Mp      = 3898\n",
      "phi*Mp  = 3509\n",
      "0.67*Mp = 2612\n",
      "Mu      = 1.128e+04\n",
      "Mr      = 3509\n"
     ]
    }
   ],
   "source": [
    "P = E*Iy*G*J\n",
    "Q = ((pi*E/L)**2)*Iy*Cw\n",
    "Mu = (omega2*pi/L)*sqrt(P+Q) * 1E-6\n",
    "if sclass <= 2:\n",
    "    Mp = Fy*Zx * 1E-6\n",
    "    if Mu <= 0.67*Mp:\n",
    "        Mr = phi*Mu\n",
    "    else:\n",
    "        Mr = min(1.15*phi*Mp*(1-0.28*Mp/Mu),phi*Mp)\n",
    "    show('P,Q,Mp,phi*Mp,0.67*Mp,Mu,Mr')\n",
    "elif sclass == 3:\n",
    "    My = Fy*Sx * 1E-6\n",
    "    if Mu <= 0.67*My:\n",
    "        Mr = phi*Mu\n",
    "    else:\n",
    "        Mr = min(1.15*phi*My*(1-0.28*My/Mu),phi*My)\n",
    "    show('P,Q,My,phi*My,0.67*My,Mu,Mr')\n",
    "else:\n",
    "    raise Exception('Class 4 not implemented')"
   ]
  },
  {
   "cell_type": "code",
   "execution_count": 8,
   "metadata": {},
   "outputs": [
    {
     "name": "stdout",
     "output_type": "stream",
     "text": [
      "Aw            = 1.617e+04\n",
      "hw            = 56.24\n",
      "1014/sqrt(Fy) = 54.59\n",
      "1435/sqrt(Fy) = 77.26\n",
      "Fs            = 221.3\n",
      "Vr            = 3220\n"
     ]
    }
   ],
   "source": [
    "Aw = d*w\n",
    "hw = (d-2*t)/w\n",
    "if hw <= 1014./sqrt(Fy):\n",
    "    Fs = 0.66*Fy\n",
    "elif hw <= 1435./sqrt(Fy):\n",
    "    Fs = 670*sqrt(Fy)/hw\n",
    "else:\n",
    "    Fs = 961200/(hw**2)\n",
    "Vr = phi*Aw*Fs * 1E-3\n",
    "show('Aw,hw,1014/sqrt(Fy),1435/sqrt(Fy),Fs,Vr')"
   ]
  },
  {
   "cell_type": "code",
   "execution_count": 9,
   "metadata": {},
   "outputs": [
    {
     "data": {
      "text/plain": [
       "\u001b[0;31mSignature:\u001b[0m \u001b[0mshow\u001b[0m\u001b[0;34m(\u001b[0m\u001b[0;34m*\u001b[0m\u001b[0mvlists\u001b[0m\u001b[0;34m,\u001b[0m \u001b[0;34m**\u001b[0m\u001b[0mkw\u001b[0m\u001b[0;34m)\u001b[0m\u001b[0;34m\u001b[0m\u001b[0m\n",
       "\u001b[0;31mDocstring:\u001b[0m\n",
       "Display the values of all variables named in\n",
       "an arbitrary number of comma-delimited strings. depth=0\n",
       "is number of levels above calling level; nsf=4 is number\n",
       "of sig figs for floats. vlist elements beginning with a '*'\n",
       "give scales to apply to following values.  A None cancels\n",
       "the scales.  EG:   show('A','*1E3','Sz,Zx',None,'Fy')\n",
       "\u001b[0;31mFile:\u001b[0m      ~/work/git/ca-steel-design/lib/utils.py\n",
       "\u001b[0;31mType:\u001b[0m      function\n"
      ]
     },
     "metadata": {},
     "output_type": "display_data"
    }
   ],
   "source": [
    "show?"
   ]
  },
  {
   "cell_type": "code",
   "execution_count": null,
   "metadata": {},
   "outputs": [],
   "source": []
  }
 ],
 "metadata": {
  "kernelspec": {
   "display_name": "Python 3",
   "language": "python",
   "name": "python3"
  },
  "language_info": {
   "codemirror_mode": {
    "name": "ipython",
    "version": 3
   },
   "file_extension": ".py",
   "mimetype": "text/x-python",
   "name": "python",
   "nbconvert_exporter": "python",
   "pygments_lexer": "ipython3",
   "version": "3.6.3"
  }
 },
 "nbformat": 4,
 "nbformat_minor": 2
}
