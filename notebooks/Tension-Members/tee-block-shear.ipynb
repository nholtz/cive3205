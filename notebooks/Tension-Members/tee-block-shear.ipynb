{
 "cells": [
  {
   "cell_type": "markdown",
   "metadata": {},
   "source": [
    "## Block Shear in Flange-Connect Tee Sections\n",
    "\n",
    "This example shows the calculation of block shear resistance (Section 13.11) in a WT345x85 Tee section tension member\n",
    "connected only through the flange by four M20 bolts in punched holes.  G40.21 350W steel."
   ]
  },
  {
   "cell_type": "code",
   "execution_count": 2,
   "metadata": {},
   "outputs": [],
   "source": [
    "from Designer import sst\n",
    "from Designer import show\n",
    "SST = sst.SST()"
   ]
  },
  {
   "cell_type": "markdown",
   "metadata": {},
   "source": [
    "#### Symbols and nomenclature:\n",
    "\n",
    "![Dimensions and Symbols](tee-dimens.svg)"
   ]
  },
  {
   "cell_type": "code",
   "execution_count": 3,
   "metadata": {},
   "outputs": [
    {
     "name": "stdout",
     "output_type": "stream",
     "text": [
      "A = 1.08e+04\n",
      "d = 347\n",
      "b = 256\n",
      "t = 23.6\n",
      "w = 14.5\n",
      "k = 45\n"
     ]
    }
   ],
   "source": [
    "A,d,b,t,w,k = SST.section('WT345x85',properties='A,D,B,T,W,K')\n",
    "show('A,d,b,t,w,k')"
   ]
  },
  {
   "cell_type": "code",
   "execution_count": 4,
   "metadata": {},
   "outputs": [
    {
     "name": "stdout",
     "output_type": "stream",
     "text": [
      "Fy = 350\n",
      "Fu = 450\n",
      "hd = 24\n",
      "g  = 130\n",
      "e  = 30\n",
      "s  = 75\n"
     ]
    }
   ],
   "source": [
    "def usual_guage_W(b):\n",
    "    if b < 130.:\n",
    "        return 60.\n",
    "    elif b < 150.:\n",
    "        return 80.\n",
    "    elif b < 190.:\n",
    "        return 100.\n",
    "    else:\n",
    "        return 130.\n",
    "g = usual_guage_W(b)\n",
    "e = 30.\n",
    "s = 75.   # two lines of bolts\n",
    "hd = 20. + 2 + 2\n",
    "Fy = 350.\n",
    "Fu = 450.\n",
    "show('Fy,Fu,hd,g,e,s')"
   ]
  },
  {
   "cell_type": "code",
   "execution_count": 5,
   "metadata": {},
   "outputs": [],
   "source": [
    "# Helper functions\n",
    "\n",
    "def Tr_13p11(An,Agv,Ut,Fy=Fy,Fu=Fu,phiu=0.75):\n",
    "    \"\"\"Compute Tr as per S16-09 13.11\"\"\"\n",
    "    if Fy > 485:\n",
    "        F = Fy\n",
    "    else:\n",
    "        F = (Fy+Fu)/2.\n",
    "    return phiu*(Ut*An*Fu + 0.6*Agv*F)/1000.\n",
    "\n",
    "cases = []\n",
    "def case(title,An,Agv,Ut):\n",
    "    \"\"\"Calculate Tr, display it, and record in a list for a later summary.\"\"\"\n",
    "    Tr = Tr_13p11(An,Agv,Ut)\n",
    "    print( '{0}:'.format(title) )\n",
    "    print('   An  = {0:.4g} mm2'.format(An))\n",
    "    print('   Agv = {0:.4g} mm2'.format(Agv))\n",
    "    print('   Ut  = {0:.4g}'.format(Ut))\n",
    "    print('   Tr  = {0:.4g} kN'.format(Tr))\n",
    "    global cases\n",
    "    cases.append((title,Tr,An,Agv,Ut))\n",
    "    \n",
    "def summary():\n",
    "    \"\"\"Display a summary of computed cases.\"\"\"\n",
    "    global cases\n",
    "    tmin = min([t[1] for t in cases])\n",
    "    print()\n",
    "    print('Case          An       Agv     Ut        Tr')\n",
    "    print('             mm2       mm2               kN')\n",
    "    print('------      ----      ----    ---      ----')\n",
    "    for case,Tr,An,Agv,Ut in cases:\n",
    "        print('{0}  {1:8.0f}  {2:8.0f}  {3:5.1f}  {4:8.0f} {5}'. \\\n",
    "                format(case,An,Agv,Ut,Tr,' <-- governs' if Tr == tmin else ''))"
   ]
  },
  {
   "cell_type": "markdown",
   "metadata": {},
   "source": [
    "#### Failure Patterns\n",
    "\n",
    "![Dimensions and Symbols](tee-block-shear.svg)"
   ]
  },
  {
   "cell_type": "markdown",
   "metadata": {},
   "source": [
    "### Case 1"
   ]
  },
  {
   "cell_type": "code",
   "execution_count": 6,
   "metadata": {},
   "outputs": [
    {
     "name": "stdout",
     "output_type": "stream",
     "text": [
      "Case 1:\n",
      "   An  = 2407 mm2\n",
      "   Agv = 4956 mm2\n",
      "   Ut  = 0.9\n",
      "   Tr  = 1623 kN\n"
     ]
    }
   ],
   "source": [
    "An = (b-(g+hd))*t\n",
    "Agv = 2.*(e+s)*t\n",
    "case('Case 1',An,Agv,0.9)"
   ]
  },
  {
   "cell_type": "markdown",
   "metadata": {},
   "source": [
    "### Case 2"
   ]
  },
  {
   "cell_type": "code",
   "execution_count": 7,
   "metadata": {},
   "outputs": [
    {
     "name": "stdout",
     "output_type": "stream",
     "text": [
      "Case 2:\n",
      "   An  = 5288 mm2\n",
      "   Agv = 1522 mm2\n",
      "   Ut  = 1\n",
      "   Tr  = 2059 kN\n"
     ]
    }
   ],
   "source": [
    "An = A - (d-k)*w - 2.*hd*t\n",
    "Agv = (e+s)*w\n",
    "case('Case 2',An,Agv,1.0)"
   ]
  },
  {
   "cell_type": "markdown",
   "metadata": {},
   "source": [
    "### Case 3"
   ]
  },
  {
   "cell_type": "code",
   "execution_count": 8,
   "metadata": {},
   "outputs": [
    {
     "name": "stdout",
     "output_type": "stream",
     "text": [
      "Case 3:\n",
      "   An  = 2881 mm2\n",
      "   Agv = 6478 mm2\n",
      "   Ut  = 1\n",
      "   Tr  = 2138 kN\n"
     ]
    }
   ],
   "source": [
    "An = A - (d-k)*w - (b-g)*t - 1.*hd*t\n",
    "Agv = (e+s)*w + 2*(e+s)*t\n",
    "case('Case 3',An,Agv,1.0)"
   ]
  },
  {
   "cell_type": "markdown",
   "metadata": {},
   "source": [
    "### Case 4"
   ]
  },
  {
   "cell_type": "code",
   "execution_count": 9,
   "metadata": {},
   "outputs": [
    {
     "name": "stdout",
     "output_type": "stream",
     "text": [
      "Case 4:\n",
      "   An  = 7260 mm2\n",
      "   Agv = 4956 mm2\n",
      "   Ut  = 0.6\n",
      "   Tr  = 2362 kN\n"
     ]
    }
   ],
   "source": [
    "An = A - (b-g)*t -1.*hd*t\n",
    "Agv = 2*(e+s)*t\n",
    "case('Case 4',An,Agv,0.6)"
   ]
  },
  {
   "cell_type": "markdown",
   "metadata": {},
   "source": [
    "### Case 5"
   ]
  },
  {
   "cell_type": "code",
   "execution_count": 10,
   "metadata": {},
   "outputs": [
    {
     "name": "stdout",
     "output_type": "stream",
     "text": [
      "Case 5:\n",
      "   An  = 4085 mm2\n",
      "   Agv = 4000 mm2\n",
      "   Ut  = 0.6\n",
      "   Tr  = 1547 kN\n"
     ]
    }
   ],
   "source": [
    "An = A - (d-k)*w - (b/2.-g/2.)*t - 1.5*hd*t\n",
    "Agv = (e+s)*w + (e+s)*t\n",
    "case('Case 5',An,Agv,0.6)"
   ]
  },
  {
   "cell_type": "markdown",
   "metadata": {},
   "source": [
    "### Case 6"
   ]
  },
  {
   "cell_type": "code",
   "execution_count": 11,
   "metadata": {},
   "outputs": [
    {
     "name": "stdout",
     "output_type": "stream",
     "text": [
      "Case 6:\n",
      "   An  = 8464 mm2\n",
      "   Agv = 2478 mm2\n",
      "   Ut  = 0.6\n",
      "   Tr  = 2160 kN\n"
     ]
    }
   ],
   "source": [
    "An = A - (b/2.-g/2.)*t - 1.5*hd*t\n",
    "Agv = (e+s)*t\n",
    "case('Case 6',An,Agv,0.6)"
   ]
  },
  {
   "cell_type": "markdown",
   "metadata": {},
   "source": [
    "### Case 7"
   ]
  },
  {
   "cell_type": "code",
   "execution_count": 12,
   "metadata": {},
   "outputs": [
    {
     "name": "stdout",
     "output_type": "stream",
     "text": [
      "Case 7:\n",
      "   An  = 0 mm2\n",
      "   Agv = 9912 mm2\n",
      "   Ut  = 0\n",
      "   Tr  = 1784 kN\n"
     ]
    }
   ],
   "source": [
    "An = 0.\n",
    "Agv = 4*(e+s)*t\n",
    "case('Case 7',An,Agv,0.)"
   ]
  },
  {
   "cell_type": "markdown",
   "metadata": {},
   "source": [
    "## Summary"
   ]
  },
  {
   "cell_type": "code",
   "execution_count": 13,
   "metadata": {},
   "outputs": [
    {
     "name": "stdout",
     "output_type": "stream",
     "text": [
      "\n",
      "Case          An       Agv     Ut        Tr\n",
      "             mm2       mm2               kN\n",
      "------      ----      ----    ---      ----\n",
      "Case 1      2407      4956    0.9      1623 \n",
      "Case 2      5288      1522    1.0      2059 \n",
      "Case 3      2881      6478    1.0      2138 \n",
      "Case 4      7260      4956    0.6      2362 \n",
      "Case 5      4085      4000    0.6      1547  <-- governs\n",
      "Case 6      8464      2478    0.6      2160 \n",
      "Case 7         0      9912    0.0      1784 \n"
     ]
    }
   ],
   "source": [
    "summary()"
   ]
  },
  {
   "cell_type": "code",
   "execution_count": null,
   "metadata": {},
   "outputs": [],
   "source": []
  }
 ],
 "metadata": {
  "kernelspec": {
   "display_name": "Python 3",
   "language": "python",
   "name": "python3"
  },
  "language_info": {
   "codemirror_mode": {
    "name": "ipython",
    "version": 3
   },
   "file_extension": ".py",
   "mimetype": "text/x-python",
   "name": "python",
   "nbconvert_exporter": "python",
   "pygments_lexer": "ipython3",
   "version": "3.6.3"
  }
 },
 "nbformat": 4,
 "nbformat_minor": 1
}
