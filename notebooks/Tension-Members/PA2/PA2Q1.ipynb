{
 "cells": [
  {
   "cell_type": "markdown",
   "metadata": {},
   "source": [
    "## Solution of PA2, Jan 22, 2015"
   ]
  },
  {
   "cell_type": "code",
   "execution_count": 1,
   "metadata": {
    "collapsed": false
   },
   "outputs": [],
   "source": [
    "from Designer import sst\n",
    "from Designer.utils import show\n",
    "SST = sst.SST()"
   ]
  },
  {
   "cell_type": "markdown",
   "metadata": {},
   "source": [
    "![End Details](brace1.svg)"
   ]
  },
  {
   "cell_type": "markdown",
   "metadata": {},
   "source": [
    "### Tr for 1 angle:"
   ]
  },
  {
   "cell_type": "code",
   "execution_count": 2,
   "metadata": {
    "collapsed": false
   },
   "outputs": [
    {
     "name": "stdout",
     "output_type": "stream",
     "text": [
      "d  = 102\n",
      "b  = 76.2\n",
      "t  = 12.7\n",
      "Ag = 2100\n"
     ]
    }
   ],
   "source": [
    "Fy = 350\n",
    "Fu = 450\n",
    "d,b,t,Ag = SST.section('L102x76x13',properties='D,B,T,A')\n",
    "show('d,b,t,Ag')\n",
    "bs = 20   # bolt size, mm\n",
    "hd = bs+2+2  # hole diameter  - punched holes\n",
    "g1 = 65      # gauge, longer leg\n",
    "g2 = 45      # gauge, shorter leg"
   ]
  },
  {
   "cell_type": "markdown",
   "metadata": {},
   "source": [
    "![Angle Details](angle.svg)"
   ]
  },
  {
   "cell_type": "markdown",
   "metadata": {},
   "source": [
    "#### Fracture of net x-section:"
   ]
  },
  {
   "cell_type": "code",
   "execution_count": 3,
   "metadata": {
    "collapsed": false
   },
   "outputs": [
    {
     "name": "stdout",
     "output_type": "stream",
     "text": [
      "wg  = 165.5\n",
      "g   = 97.3\n",
      "s   = 80\n",
      "wn1 = 141.5\n",
      "wn2 = 133.9\n",
      "wn  = 133.9\n"
     ]
    }
   ],
   "source": [
    "# gross width = \"flattened\" width of angle:\n",
    "wg = d + b - t\n",
    "\n",
    "# failure path 1-1: 1 hole\n",
    "wn1 = wg - 1*hd\n",
    "\n",
    "# failure path 2-2: 2 holes\n",
    "g = g1 + g2 - t\n",
    "s = 80\n",
    "wn2 = wg - 2*hd + s**2/(4*g)\n",
    "\n",
    "wn = min(wn1,wn2)\n",
    "show('wg,g,s,wn1,wn2,wn')"
   ]
  },
  {
   "cell_type": "code",
   "execution_count": 4,
   "metadata": {
    "collapsed": false
   },
   "outputs": [
    {
     "name": "stdout",
     "output_type": "stream",
     "text": [
      "An     = 1701\n",
      "Ane    = 1361\n",
      "Tr_net = 459.3\n"
     ]
    }
   ],
   "source": [
    "An = wn*t\n",
    "Ane = 0.8*An   # 12.3.3.2 (b) (i) - connected 1 leg 4 lines of bols\n",
    "Tr_net = 0.75 * Fu * Ane / 1000.\n",
    "show('An,Ane,Tr_net')"
   ]
  },
  {
   "cell_type": "markdown",
   "metadata": {},
   "source": [
    "#### Yield of gross x-section:"
   ]
  },
  {
   "cell_type": "code",
   "execution_count": 5,
   "metadata": {
    "collapsed": false
   },
   "outputs": [
    {
     "name": "stdout",
     "output_type": "stream",
     "text": [
      "Ag       = 2100\n",
      "Tr_gross = 661.5\n",
      "Tr1      = 459.3\n"
     ]
    }
   ],
   "source": [
    "Tr_gross = 0.9*Ag*Fy/1000.\n",
    "Tr1 = min(Tr_net,Tr_gross)   # governing for 1 angle\n",
    "show('Ag,Tr_gross,Tr1')"
   ]
  },
  {
   "cell_type": "markdown",
   "metadata": {},
   "source": [
    "#### Summary: 4 angles"
   ]
  },
  {
   "cell_type": "code",
   "execution_count": 6,
   "metadata": {
    "collapsed": false
   },
   "outputs": [
    {
     "name": "stdout",
     "output_type": "stream",
     "text": [
      "Tr_4angles = 1837\n"
     ]
    }
   ],
   "source": [
    "Tr_4angles = 4*Tr1\n",
    "show('Tr_4angles')"
   ]
  },
  {
   "cell_type": "markdown",
   "metadata": {},
   "source": [
    "### Tr of W Shape"
   ]
  },
  {
   "cell_type": "markdown",
   "metadata": {},
   "source": [
    "![W Shape](w.svg)"
   ]
  },
  {
   "cell_type": "code",
   "execution_count": 7,
   "metadata": {
    "collapsed": false
   },
   "outputs": [
    {
     "name": "stdout",
     "output_type": "stream",
     "text": [
      "Ag = 8550\n",
      "b  = 204\n",
      "d  = 257\n",
      "t  = 15.7\n",
      "w  = 8.9\n",
      "Fy = 350\n",
      "Fu = 450\n"
     ]
    }
   ],
   "source": [
    "Ag,b,d,t,w = SST.section('W250x67',properties='A,B,D,T,W')\n",
    "show('Ag,b,d,t,w')\n",
    "show('Fy,Fu')"
   ]
  },
  {
   "cell_type": "code",
   "execution_count": 8,
   "metadata": {
    "collapsed": false
   },
   "outputs": [],
   "source": [
    "wp = 190   # width of web reinforcing PL\n",
    "tp = 8     # thickness of web reinforcing PL\n",
    "wc = 40    # width cut from flange tips"
   ]
  },
  {
   "cell_type": "markdown",
   "metadata": {},
   "source": [
    "#### Yield on gross area"
   ]
  },
  {
   "cell_type": "code",
   "execution_count": 9,
   "metadata": {
    "collapsed": false
   },
   "outputs": [
    {
     "name": "stdout",
     "output_type": "stream",
     "text": [
      "Agr      = 6038\n",
      "Tr_gross = 1902\n"
     ]
    }
   ],
   "source": [
    "Agr = Ag - 4*wc*t   # reduced area due to flange cuts\n",
    "Tr_gross = 0.9*Fy*Agr/1000.\n",
    "show('Agr,Tr_gross')"
   ]
  },
  {
   "cell_type": "markdown",
   "metadata": {},
   "source": [
    "#### Fracture of net area"
   ]
  },
  {
   "cell_type": "code",
   "execution_count": 10,
   "metadata": {
    "collapsed": false
   },
   "outputs": [
    {
     "name": "stdout",
     "output_type": "stream",
     "text": [
      "An     = 1.039e+04\n",
      "Ane    = 8836\n",
      "Tr_net = 2982\n"
     ]
    }
   ],
   "source": [
    "# Path 1-1: net = gross  +  plates  -  holes\n",
    "An = Ag  +  2*tp*wp   -  2*hd*(w+tp+tp)\n",
    "Ane = 0.85*An    # 12.3.3.2 (c) (i)\n",
    "Tr_net = 0.75*Ane*Fu/1000.\n",
    "show('An,Ane,Tr_net')"
   ]
  },
  {
   "cell_type": "markdown",
   "metadata": {},
   "source": [
    "### Summary"
   ]
  },
  {
   "cell_type": "code",
   "execution_count": 11,
   "metadata": {
    "collapsed": false
   },
   "outputs": [
    {
     "name": "stdout",
     "output_type": "stream",
     "text": [
      "Tr = 1837\n"
     ]
    }
   ],
   "source": [
    "Tr = min(Tr_4angles,Tr_gross,Tr_net)\n",
    "show('Tr')"
   ]
  },
  {
   "cell_type": "code",
   "execution_count": null,
   "metadata": {
    "collapsed": false
   },
   "outputs": [],
   "source": []
  }
 ],
 "metadata": {
  "kernelspec": {
   "display_name": "Python 2",
   "language": "python",
   "name": "python2"
  },
  "language_info": {
   "codemirror_mode": {
    "name": "ipython",
    "version": 2
   },
   "file_extension": ".py",
   "mimetype": "text/x-python",
   "name": "python",
   "nbconvert_exporter": "python",
   "pygments_lexer": "ipython2",
   "version": "2.7.6"
  }
 },
 "nbformat": 4,
 "nbformat_minor": 0
}
