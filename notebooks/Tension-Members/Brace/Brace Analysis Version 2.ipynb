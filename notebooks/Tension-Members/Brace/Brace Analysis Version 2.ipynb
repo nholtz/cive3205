{
 "cells": [
  {
   "cell_type": "markdown",
   "metadata": {},
   "source": [
    "# Brace Analysis Version 2\n",
    "The photo shows the enf\\d details of a typical brace in a 4-storey steel structure.  This was photographed in Ottawa, in September, 2015.\n",
    "\n",
    "This notebook shows all of the computations necessary to compute $T_r$ for a similar brace.  **Caution**, all of the dimensions and properties were invented by the author of this notebook; no attempt has been made to have an accurate model of the real structure.\n",
    "\n",
    "![Brace End Details](brace.jpg)"
   ]
  },
  {
   "cell_type": "markdown",
   "metadata": {},
   "source": [
    "![Overall Sketch](brace-sketch.svg)"
   ]
  },
  {
   "cell_type": "code",
   "execution_count": 1,
   "metadata": {},
   "outputs": [],
   "source": [
    "from __future__ import print_function, division"
   ]
  },
  {
   "cell_type": "code",
   "execution_count": 2,
   "metadata": {},
   "outputs": [
    {
     "ename": "ImportError",
     "evalue": "cannot import name 'Data'",
     "output_type": "error",
     "traceback": [
      "\u001b[0;31m---------------------------------------------------------------------------\u001b[0m",
      "\u001b[0;31mImportError\u001b[0m                               Traceback (most recent call last)",
      "\u001b[0;32m<ipython-input-2-af9cd4789065>\u001b[0m in \u001b[0;36m<module>\u001b[0;34m()\u001b[0m\n\u001b[0;32m----> 1\u001b[0;31m \u001b[0;32mfrom\u001b[0m \u001b[0mDesigner\u001b[0m \u001b[0;32mimport\u001b[0m \u001b[0mData\u001b[0m\u001b[0;34m,\u001b[0m\u001b[0mDesigner\u001b[0m\u001b[0;34m\u001b[0m\u001b[0m\n\u001b[0m\u001b[1;32m      2\u001b[0m \u001b[0;32mimport\u001b[0m \u001b[0mmath\u001b[0m\u001b[0;34m\u001b[0m\u001b[0m\n\u001b[1;32m      3\u001b[0m \u001b[0msind\u001b[0m \u001b[0;34m=\u001b[0m \u001b[0;32mlambda\u001b[0m \u001b[0mt\u001b[0m\u001b[0;34m:\u001b[0m \u001b[0mmath\u001b[0m\u001b[0;34m.\u001b[0m\u001b[0msin\u001b[0m\u001b[0;34m(\u001b[0m\u001b[0mmath\u001b[0m\u001b[0;34m.\u001b[0m\u001b[0mradians\u001b[0m\u001b[0;34m(\u001b[0m\u001b[0mt\u001b[0m\u001b[0;34m)\u001b[0m\u001b[0;34m)\u001b[0m\u001b[0;34m\u001b[0m\u001b[0m\n\u001b[1;32m      4\u001b[0m \u001b[0mcosd\u001b[0m \u001b[0;34m=\u001b[0m \u001b[0;32mlambda\u001b[0m \u001b[0mt\u001b[0m\u001b[0;34m:\u001b[0m \u001b[0mmath\u001b[0m\u001b[0;34m.\u001b[0m\u001b[0mcos\u001b[0m\u001b[0;34m(\u001b[0m\u001b[0mmath\u001b[0m\u001b[0;34m.\u001b[0m\u001b[0mradians\u001b[0m\u001b[0;34m(\u001b[0m\u001b[0mt\u001b[0m\u001b[0;34m)\u001b[0m\u001b[0;34m)\u001b[0m\u001b[0;34m\u001b[0m\u001b[0m\n",
      "\u001b[0;31mImportError\u001b[0m: cannot import name 'Data'"
     ]
    }
   ],
   "source": [
    "from Designer import Data,Designer\n",
    "import math\n",
    "sind = lambda t: math.sin(math.radians(t))\n",
    "cosd = lambda t: math.cos(math.radians(t))"
   ]
  },
  {
   "cell_type": "code",
   "execution_count": null,
   "metadata": {},
   "outputs": [],
   "source": [
    "def Warn(s):\n",
    "    print('***** WARNING:',s,'*****')\n",
    "\n",
    "class Data(object):\n",
    "    \n",
    "    \"\"\"DATA root class.\"\"\"\n",
    "    \n",
    "    __CAUTIOUS__ = True\n",
    "    \n",
    "    @classmethod\n",
    "    def get(self,fields):\n",
    "        fs = [x.strip() for x in fields.split(',') if x.strip()]\n",
    "        if self.__CAUTIOUS__:\n",
    "            dicts = [(x,vars(x)) for x in self.mro() if x not in [Data,object]]\n",
    "            for f in fs:\n",
    "                clses = [x for x,v in dicts if f in v]\n",
    "                if len(clses) > 1:\n",
    "                    Warn(\"Field '{}' is defined in multiple classes: {}\".\n",
    "                          format(f,', '.join([c.__name__ for c in clses])))\n",
    "        vs = [getattr(self,f) for f in fs]\n",
    "        if len(fs) == 1:\n",
    "            return vs[0]\n",
    "        return vs"
   ]
  },
  {
   "cell_type": "code",
   "execution_count": null,
   "metadata": {},
   "outputs": [],
   "source": [
    "import sst\n",
    "SST = sst.SST()"
   ]
  },
  {
   "cell_type": "code",
   "execution_count": null,
   "metadata": {},
   "outputs": [],
   "source": [
    "phiw = 0.67\n",
    "phiu = 0.75\n",
    "phib = 0.80\n",
    "phibr = 0.80\n",
    "phi = 0.90"
   ]
  },
  {
   "cell_type": "code",
   "execution_count": null,
   "metadata": {},
   "outputs": [],
   "source": [
    "des = Designer(title='Typical Cross Brace',var='Tr',units='kN',trace=True)\n",
    "\n",
    "# useful abbreviations:\n",
    "REQ = des.require       # a requirement\n",
    "CHK = des.check         # a check\n",
    "REC = des.record        # record calculation details"
   ]
  },
  {
   "cell_type": "code",
   "execution_count": null,
   "metadata": {},
   "outputs": [],
   "source": [
    "class Bolts(Data):\n",
    "    grade = 'ASTM A325M'\n",
    "    size = 'M20'\n",
    "    Fu = 830.\n",
    "    d = 20.\n",
    "    holes = 'punched'\n",
    "    hd = d + 2 + (0 if holes == 'drilled' else 2)\n",
    "    threads_intercepted = True\n",
    "    nlines = 2\n",
    "    nacross = 3\n",
    "    g = 75.\n",
    "    s = 75.\n",
    "\n",
    "class Welds(Data):\n",
    "    grade = 'E49xx'\n",
    "    Xu = 490.\n",
    "    matching = True\n",
    "\n",
    "class Plate_Steel(Data):\n",
    "    grade = 'CSA G40.21 350W'\n",
    "    Fy = 350.\n",
    "    Fu = 450.\n",
    "    \n",
    "class HSS_Steel(Data):\n",
    "    grade = 'CSA G40.21 350W'\n",
    "    Fy = 350.\n",
    "    Fu = 450.\n",
    "    \n",
    "class HSS(HSS_Steel):\n",
    "    size = 'HS127x127x13'\n",
    "    \n",
    "class Tongue(Plate_Steel,Bolts):\n",
    "    T = 20.\n",
    "    W = 280.\n",
    "    L = 260.\n",
    "    e = 40."
   ]
  },
  {
   "cell_type": "markdown",
   "metadata": {},
   "source": [
    "## Gusset Plate Details\n",
    "![Gusset Plate Details](gusset-details.svg)"
   ]
  },
  {
   "cell_type": "code",
   "execution_count": null,
   "metadata": {},
   "outputs": [],
   "source": [
    "class Gusset(Plate_Steel,Bolts,Welds):\n",
    "    W1 = Tongue.W\n",
    "    W2 = 110.\n",
    "    T = Tongue.T\n",
    "    e = 40.\n",
    "    D = 8.\n",
    "    theta = 45."
   ]
  },
  {
   "cell_type": "markdown",
   "metadata": {},
   "source": [
    "### Gusset to HSS Weld"
   ]
  },
  {
   "cell_type": "code",
   "execution_count": null,
   "metadata": {},
   "outputs": [],
   "source": [
    "w1,w2,D,theta,Xu = Gusset.get('W1,W2,D,theta,Xu')\n",
    "\n",
    "L1 = w2+w1*cosd(theta)\n",
    "L = (L1/sind(theta))*cosd(theta) + w1*sind(theta)\n",
    "\n",
    "Mw = 1.0\n",
    "Aw = 2*L*.707*D\n",
    "Vr = 0.67*phiw*Aw*Xu*(1+sind(theta)**1.5)*Mw * 1E-3\n",
    "\n",
    "REC('Gusset to HSS Weld','L,Xu,w1,w2,D,theta,Aw,Mw,phiw',Tr=Vr)"
   ]
  },
  {
   "cell_type": "markdown",
   "metadata": {},
   "source": [
    "### Gusset Block Shear\n",
    "#### Case 1)"
   ]
  },
  {
   "cell_type": "code",
   "execution_count": null,
   "metadata": {},
   "outputs": [],
   "source": [
    "nlines,nacross,g,s,e,t,hd,Fy,Fu = Gusset.get('nlines,nacross,g,s,e,T,hd,Fy,Fu')\n",
    "\n",
    "An = t*((nacross-1)*g - (nacross-1)*hd)\n",
    "Agv = 2*t*((nlines-1)*s + e)\n",
    "Ut = 1.0\n",
    "Vr = phiu*(Ut*An*Fu + 0.6*Agv*(Fy+Fu)/2.) * 1E-3\n",
    "REC('Gusset Block Shear 1)','An,Agv,Ut',Tr=Vr)"
   ]
  },
  {
   "cell_type": "markdown",
   "metadata": {},
   "source": [
    "#### Case 2)"
   ]
  },
  {
   "cell_type": "code",
   "execution_count": null,
   "metadata": {},
   "outputs": [],
   "source": [
    "An = t*((nacross-1)*g + ((w1/2.)-(nacross-1)*g/2.))\n",
    "Agv = t*((nlines-1)*s + e)\n",
    "Ut = 0.8\n",
    "Vr = phiu*(Ut*An*Fu + 0.6*Agv*(Fy+Fu)/2.) * 1E-3\n",
    "REC('Gusset Block Shear 2)','An,Agv,Ut',Tr=Vr)"
   ]
  },
  {
   "cell_type": "markdown",
   "metadata": {},
   "source": [
    "#### Tearout"
   ]
  },
  {
   "cell_type": "code",
   "execution_count": null,
   "metadata": {},
   "outputs": [],
   "source": [
    "Agv = t*((nlines-1)*s + e) * nacross * 2\n",
    "Vr = phiu * 0.6*Agv*(Fy+Fu)/2. * 1E-3\n",
    "REC('Gusset tearout','Agv',Tr=Vr)"
   ]
  },
  {
   "cell_type": "code",
   "execution_count": null,
   "metadata": {},
   "outputs": [],
   "source": [
    "#################################################################### converted to here"
   ]
  },
  {
   "cell_type": "markdown",
   "metadata": {},
   "source": [
    "## Lap Plate\n",
    "### Lap Plate Details\n",
    "Consider the thickness of both plates together when computing the resistance.\n",
    "As the plate is symmetric, we only have to investigate one end.\n",
    "![Lap Plate Details](lap-plate-details.svg)"
   ]
  },
  {
   "cell_type": "code",
   "execution_count": null,
   "metadata": {},
   "outputs": [],
   "source": [
    "LapPlate = Data(W = 230.,\n",
    "                L = 315.,\n",
    "                t = 10.+10.,     # include 2 plates\n",
    "                e = 40.,         # could be different than gusset\n",
    "                g = Gusset.g,    # must be the same as gusset plate\n",
    "                s = Gusset.s,\n",
    "                nlines = Gusset.nlines,\n",
    "                nacross = Gusset.nacross,\n",
    "               )"
   ]
  },
  {
   "cell_type": "markdown",
   "metadata": {},
   "source": [
    "### Lap Plate: Gross Section Yielding"
   ]
  },
  {
   "cell_type": "code",
   "execution_count": null,
   "metadata": {},
   "outputs": [],
   "source": [
    "wg,t = LapPlate['W,t']\n",
    "Fy = PL.Fy\n",
    "Ag = wg*t\n",
    "Tr = phi*Ag*Fy * 1E-3\n",
    "REC('Lap Plate, Gross Yield','Ag,Fy,phi',Tr=Tr)"
   ]
  },
  {
   "cell_type": "markdown",
   "metadata": {},
   "source": [
    "### Lap Plate: Net Section Fracture"
   ]
  },
  {
   "cell_type": "code",
   "execution_count": null,
   "metadata": {},
   "outputs": [],
   "source": [
    "wg,t,nacross = LapPlate['W,t,nacross']\n",
    "hd = Bolt.hd\n",
    "Fu = PL.Fu\n",
    "\n",
    "wn = wg - nacross*hd\n",
    "Ane = An = wn*t\n",
    "Tr = phiu*Ane*Fu * 1E-3\n",
    "REC('Lap Plate, Net Fracture','Fu,phiu,Ane',Tr=Tr)"
   ]
  },
  {
   "cell_type": "markdown",
   "metadata": {},
   "source": [
    "### Lap Plate: Block Shear\n",
    "#### Case 1)"
   ]
  },
  {
   "cell_type": "code",
   "execution_count": null,
   "metadata": {},
   "outputs": [],
   "source": [
    "g,t,nacross,nlines,e,s = LapPlate['g,t,nacross,nlines,e,s']\n",
    "hd = Bolt.hd\n",
    "Fy,Fu = PL['Fy,Fu']\n",
    "\n",
    "An = ((nacross-1)*g - (nacross-1)*hd)*t\n",
    "Agv = (e + (nlines-1)*s)*t*2\n",
    "Ut = 1.0\n",
    "Vr = phiu*(Ut*An*Fu + 0.6*Agv*(Fy+Fu)/2.) * 1E-3\n",
    "REC('Lap Plate Block Shear 1)','An,Agv,Ut',Tr=Vr)"
   ]
  },
  {
   "cell_type": "markdown",
   "metadata": {},
   "source": [
    "#### Case 2)"
   ]
  },
  {
   "cell_type": "code",
   "execution_count": null,
   "metadata": {},
   "outputs": [],
   "source": [
    "g,t,nacross,nlines,e,s,wg = LapPlate['g,t,nacross,nlines,e,s,W']\n",
    "hd = Bolt.hd\n",
    "Fy,Fu = PL['Fy,Fu']\n",
    "\n",
    "edge = (wg - (nacross-1)*g)/2.0\n",
    "An = (wg - edge - (nacross-0.5)*hd)*t\n",
    "Agv = (e + (nlines-1)*s)*t\n",
    "Ut = 0.8\n",
    "Vr = phiu*(Ut*An*Fu + 0.6*Agv*(Fy+Fu)/2.) * 1E-3\n",
    "REC('Lap Plate Block Shear 2)','An,Agv,Ut',Tr=Vr)"
   ]
  },
  {
   "cell_type": "markdown",
   "metadata": {},
   "source": [
    "#### Tearout"
   ]
  },
  {
   "cell_type": "code",
   "execution_count": null,
   "metadata": {},
   "outputs": [],
   "source": [
    "t,nlines,nacross,e,s = LapPlate['t,nlines,nacross,e,s']\n",
    "Fy,Fu = PL['Fy,Fu']\n",
    "\n",
    "An = 0\n",
    "Agv = (e + (nlines-1)*s)*t*2*nacross\n",
    "Ut = 1\n",
    "Vr = phiu*(Ut*An*Fu + 0.6*Agv*(Fy+Fu)/2.) * 1E-3\n",
    "REC('Lap Plate tearout','Agv',Tr=Vr)"
   ]
  },
  {
   "cell_type": "markdown",
   "metadata": {},
   "source": [
    "## Tongue Plate\n",
    "### Tongue Plate Details\n",
    "![Tongue Plate Details](tongue-plate-details.svg)"
   ]
  },
  {
   "cell_type": "code",
   "execution_count": null,
   "metadata": {},
   "outputs": [],
   "source": [
    "Tongue = Data(W = Gusset.w1,\n",
    "              t = Gusset.t,\n",
    "              D = 8.,\n",
    "              nlines = Gusset.nlines,\n",
    "              nacross = Gusset.nacross,\n",
    "              e = 40.,\n",
    "              s = Gusset.s,\n",
    "              g = Gusset.g,\n",
    "              c = 45.,\n",
    "              L = 260.              \n",
    "             )\n",
    "Tongue.Lw = Tongue.L - (Tongue.c + (Tongue.nlines-1)*Tongue.s + Tongue.e)\n",
    "Tongue.Dh = SST.section(HSS.size,'D')"
   ]
  },
  {
   "cell_type": "code",
   "execution_count": null,
   "metadata": {},
   "outputs": [],
   "source": [
    "vars(Tongue)"
   ]
  },
  {
   "cell_type": "markdown",
   "metadata": {},
   "source": [
    "### Tongue Plate - Bolted End\n",
    "#### Gross Section Yield"
   ]
  },
  {
   "cell_type": "code",
   "execution_count": null,
   "metadata": {},
   "outputs": [],
   "source": [
    "wg,t = Tongue['W,t']\n",
    "Fy = PL['Fy']\n",
    "Ag = wg*t\n",
    "Tr = phi*Ag*Fy * 1E-3\n",
    "REC('Tongue Plate, Gross Yield','Ag',Tr=Tr)"
   ]
  },
  {
   "cell_type": "markdown",
   "metadata": {},
   "source": [
    "#### Net Section Fracture"
   ]
  },
  {
   "cell_type": "code",
   "execution_count": null,
   "metadata": {},
   "outputs": [],
   "source": [
    "wg,t,n = Tongue['W,t,nacross']\n",
    "Fu = PL['Fu']\n",
    "hd = Bolt['hd']\n",
    "\n",
    "wn = wg - n*hd\n",
    "Ane = An = wn*t\n",
    "Tr = phiu*An*Fu * 1E-3\n",
    "REC('Tongue Plate, Net Area Fracture (Bolted)','An',Tr=Tr)"
   ]
  },
  {
   "cell_type": "markdown",
   "metadata": {},
   "source": [
    "#### Block Shear\n",
    "There is no need to check block shear.  Of necessity, the thickness of the tongue plate is the same as\n",
    "the gusset plate, and as the widths and bolting details are also the same, the capacities with respect to block shear\n",
    "will also be the same."
   ]
  },
  {
   "cell_type": "markdown",
   "metadata": {},
   "source": [
    "### Tongue Plate - Welded End\n",
    "#### Shear Lag - Effective Net Area"
   ]
  },
  {
   "cell_type": "code",
   "execution_count": null,
   "metadata": {},
   "outputs": [],
   "source": [
    "w,w2,L,t = Tongue['W,Dh,Lw,t']\n",
    "Fu = PL.Fu\n",
    "if L >= 2*w2:\n",
    "    An2 = 1.00*w2*t\n",
    "elif L >= w2:\n",
    "    An2 = 0.5*w2*t + 0.25*L*t\n",
    "else:\n",
    "    An2 = 0.75*L*t\n",
    "    \n",
    "n,g = Tongue['nacross,g']\n",
    "w3 = (w-w2)/2.\n",
    "xbar = w3/2.\n",
    "if L >= w3:\n",
    "    An3 = (1.-xbar/L)*w3*t\n",
    "else:\n",
    "    An3 = 0.50*L*t\n",
    "Ane = An2 + An3 + An3\n",
    "Tr = phiu*Ane*Fu * 1E-3\n",
    "REC('Tongue Plate, Net Area Fracture (Welded)','w2,w3,An2,An3,Ane',Tr=Tr)"
   ]
  },
  {
   "cell_type": "markdown",
   "metadata": {},
   "source": [
    "## Fasteners\n",
    "### Bolts\n",
    "#### Shear"
   ]
  },
  {
   "cell_type": "code",
   "execution_count": null,
   "metadata": {},
   "outputs": [],
   "source": [
    "d,Fu,threads_intercepted = Bolt['d,Fu,threads_intercepted']\n",
    "t = min(Gusset.t,Tongue.t,2*LapPlate.t)\n",
    "n = min(Gusset.nlines*Gusset.nacross,Tongue.nlines*Tongue.nacross)\n",
    "m = 2\n",
    "Ab = 3.14159*d*d/4.\n",
    "Vr = 0.6*phib*n*m*Ab*Fu * 1E-3\n",
    "if threads_intercepted:\n",
    "    Vr *= 0.7\n",
    "REC('Bolts in Shear','n,m,d,Ab,Fu,t',Tr=Vr)"
   ]
  },
  {
   "cell_type": "markdown",
   "metadata": {
    "collapsed": true
   },
   "source": [
    "#### Bearing"
   ]
  },
  {
   "cell_type": "code",
   "execution_count": null,
   "metadata": {},
   "outputs": [],
   "source": [
    "Br = 3*phibr*n*t*d*Fu * 1E-3\n",
    "REC('Bolts in Bearing','n,t,d,Fu',Tr=Br)"
   ]
  },
  {
   "cell_type": "markdown",
   "metadata": {},
   "source": [
    "### Welds - HSS to Tongue Plate"
   ]
  },
  {
   "cell_type": "code",
   "execution_count": null,
   "metadata": {},
   "outputs": [],
   "source": [
    "L,D = Tongue['Lw,D']\n",
    "Xu,matching = Weld['Xu,matching']\n",
    "Aw = 4.*L*D*0.707\n",
    "Vr = 0.67*phiw*Aw*Xu * 1E-3\n",
    "if matching:\n",
    "    REC('Weld metal (HSS to Plate)','D,L,Aw,Xu',Tr=Vr)\n",
    "else:\n",
    "    Fu = min(HSS.Fu,PL.Fu)\n",
    "    Am = 4.*L*D\n",
    "    Vr = min(Vr,0.67*phiw*Am*Fu)\n",
    "    REC('Weld/Base metal (HSS to Plate)','D,L,Aw,Am,Xu,Fu',Tr=Vr)"
   ]
  },
  {
   "cell_type": "markdown",
   "metadata": {},
   "source": [
    "## HSS + Cover Plate\n",
    "![HSS Details](hss-details.svg)\n",
    "Each half of the HSS is a plate of width w (the meridian distance around) welded on 2 edges (perpendicular\n",
    "to the figure).  The cover plate is an additional plate welded on two edges.\n",
    "### Net Section Fracture"
   ]
  },
  {
   "cell_type": "code",
   "execution_count": null,
   "metadata": {},
   "outputs": [],
   "source": [
    "D,t,Ag = SST.section(HSS.size,'D,T,A')\n",
    "hFy,hFu = HSS['Fy,Fu']\n",
    "tt,L = Tongue['t,Lw']\n",
    "w = (4.*(D-t) - 2*tt)/2.   # meridian distance around 1/2 of cut HSS\n",
    "if L >= 2*w:\n",
    "    An2 = 1.00*w*t\n",
    "elif L >= w:\n",
    "    An2 = 0.5*w*t + 0.25*L*t\n",
    "else:\n",
    "    An2 = 0.75*L*t\n",
    "hAne = An2\n",
    "hTr = 2*phiu*hAne*hFu * 1E-3\n",
    "\n",
    "cw,ct,cFy,cFu = Cover['w,t,Fy,Fu']  # cover plate\n",
    "if L >= 2*cw:\n",
    "    cAn2 = 1.00*cw*ct\n",
    "elif L >= cw:\n",
    "    cAn2 = 0.5*cw*ct + 0.25*L*ct\n",
    "else:\n",
    "    cAn2 = 0.75*L*ct\n",
    "cAne = cAn2\n",
    "cTr = 2*phiu*cAne*cFu * 1E-3\n",
    "Tr = hTr + cTr\n",
    "REC('HSS, net section fracture','w,t,hAne,hTr,cw,cAne,cTr',Tr=Tr)"
   ]
  },
  {
   "cell_type": "markdown",
   "metadata": {},
   "source": [
    "### Gross Section Yield"
   ]
  },
  {
   "cell_type": "code",
   "execution_count": null,
   "metadata": {},
   "outputs": [],
   "source": [
    "Tr = phi*Ag*Fy  * 1E-3\n",
    "REC('HSS Gross Section Yield','Ag',Tr=Tr)"
   ]
  },
  {
   "cell_type": "markdown",
   "metadata": {},
   "source": [
    "## Cover Plate to HSS Weld\n",
    "Ensure that the length of the weld can develop the full strength of the cover plate."
   ]
  },
  {
   "cell_type": "code",
   "execution_count": null,
   "metadata": {},
   "outputs": [],
   "source": [
    "cTr = phiu*cAne*cFu * 1E-3\n",
    "L = Tongue.Lw\n",
    "D = Cover.D\n",
    "Xu = Weld.Xu\n",
    "Aw = 2*L*D*0.707\n",
    "wTr = 0.67*phiw*Aw*Xu * 1E-3\n",
    "CHK(wTr>=cTr,'Coverplate weld strength'.format(wTr,cTr),'wTr,cTr,L,D,Aw')"
   ]
  },
  {
   "cell_type": "markdown",
   "metadata": {},
   "source": [
    "## To Do\n",
    "* Check that gusset plate doesn't cause undo flexural problems in the flange of the HSS column member."
   ]
  },
  {
   "cell_type": "markdown",
   "metadata": {},
   "source": [
    "## Summary"
   ]
  },
  {
   "cell_type": "code",
   "execution_count": null,
   "metadata": {},
   "outputs": [],
   "source": [
    "des.summary()"
   ]
  }
 ],
 "metadata": {
  "kernelspec": {
   "display_name": "Python 3",
   "language": "python",
   "name": "python3"
  },
  "language_info": {
   "codemirror_mode": {
    "name": "ipython",
    "version": 3
   },
   "file_extension": ".py",
   "mimetype": "text/x-python",
   "name": "python",
   "nbconvert_exporter": "python",
   "pygments_lexer": "ipython3",
   "version": "3.6.3"
  }
 },
 "nbformat": 4,
 "nbformat_minor": 1
}
