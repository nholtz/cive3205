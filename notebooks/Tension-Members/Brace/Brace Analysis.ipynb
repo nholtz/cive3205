{
 "cells": [
  {
   "cell_type": "markdown",
   "metadata": {},
   "source": [
    "# Brace Analysis\n",
    "The photo shows the enf\\d details of a typical brace in a 4-storey steel structure.  This was photographed in Ottawa, in September, 2015.\n",
    "\n",
    "This notebook shows all of the computations necessary to compute $T_r$ for a similar brace.  **Caution**, all of the dimensions and properties were invented by the author of this notebook; no attempt has been made to have an accurate model of the real structure.\n",
    "\n",
    "![Brace End Details](brace.jpg)"
   ]
  },
  {
   "cell_type": "markdown",
   "metadata": {},
   "source": [
    "![Overall Sketch](brace-sketch.svg)"
   ]
  },
  {
   "cell_type": "code",
   "execution_count": 1,
   "metadata": {},
   "outputs": [],
   "source": [
    "from Designer import Designer, Data\n",
    "import math\n",
    "sind = lambda t: math.sin(math.radians(t))\n",
    "cosd = lambda t: math.cos(math.radians(t))"
   ]
  },
  {
   "cell_type": "code",
   "execution_count": 2,
   "metadata": {},
   "outputs": [],
   "source": [
    "import sst\n",
    "SST = sst.SST()"
   ]
  },
  {
   "cell_type": "code",
   "execution_count": 3,
   "metadata": {},
   "outputs": [],
   "source": [
    "phiw = 0.67\n",
    "phiu = 0.75\n",
    "phib = 0.80\n",
    "phibr = 0.80\n",
    "phi = 0.90"
   ]
  },
  {
   "cell_type": "code",
   "execution_count": 4,
   "metadata": {},
   "outputs": [],
   "source": [
    "des = Designer(title='Typical Cross Brace',var='Tr',units='kN',trace=True)\n",
    "\n",
    "# useful abbreviations:\n",
    "REQ = des.require       # a requirement\n",
    "CHK = des.check         # a check\n",
    "REC = des.record        # record calculation details"
   ]
  },
  {
   "cell_type": "code",
   "execution_count": 5,
   "metadata": {},
   "outputs": [],
   "source": [
    "HSS = Data(Grade='CSA G40.21 350W',Fy=350.,Fu=450.,size='HS127x127x13')\n",
    "PL = Data(Grade='CSA G40.21 350W',Fy=350.,Fu=450.)\n",
    "Bolt = Data(Grade='ASTM A325M',Size='M20',d=20.,Fu=830.,threads_intercepted=True)\n",
    "Bolt.hd = Bolt.d+2+2\n",
    "Weld = Data(Class='E49XX',Xu=490.,matching=True,)\n",
    "Cover = Data(t=10,w=60,Grade='CSA G40.21 350W',Fy=350.,Fu=450.,D=6.)"
   ]
  },
  {
   "cell_type": "markdown",
   "metadata": {},
   "source": [
    "## Gusset Plate Details\n",
    "![Gusset Plate Details](gusset-details.svg)"
   ]
  },
  {
   "cell_type": "code",
   "execution_count": 6,
   "metadata": {},
   "outputs": [],
   "source": [
    "Gusset = Data(w1=280.,    # width normal to axis\n",
    "              w2=110.,    # distance from face of col to start of w1\n",
    "              theta=45.,  # angle to vertical\n",
    "              t = 20.,    # thickness\n",
    "              D = 6.,     # weld leg thickness\n",
    "              nlines = 2, # number of transverse lines of bolts (a line is perpendicular to axis/force)\n",
    "              nacross = 3,  # number of rows of bolts across, or bolts per line\n",
    "              e = 40.,    # end distance - first line to edge of gusset\n",
    "              g = 75.,    # gauge \n",
    "              s = 75.,    # spacing\n",
    "             ) "
   ]
  },
  {
   "cell_type": "markdown",
   "metadata": {},
   "source": [
    "### Gusset to HSS Weld"
   ]
  },
  {
   "cell_type": "code",
   "execution_count": 7,
   "metadata": {},
   "outputs": [
    {
     "name": "stdout",
     "output_type": "stream",
     "text": [
      "    Gusset to HSS Weld: Tr = 1506 kN\n",
      "       (Aw=4293, D=6.0, L=506.0, Mw=1.0, Xu=490.0, phiw=0.67, theta=45.0, w1=280.0, w2=110.0)\n"
     ]
    }
   ],
   "source": [
    "w1,w2,D,theta = Gusset['w1,w2,D,theta']\n",
    "Xu = Weld['Xu']\n",
    "\n",
    "L1 = w2+w1*cosd(theta)\n",
    "L = (L1/sind(theta))*cosd(theta) + w1*sind(theta)\n",
    "\n",
    "Mw = 1.0\n",
    "Aw = 2*L*.707*D\n",
    "Vr = 0.67*phiw*Aw*Xu*(1+sind(theta)**1.5)*Mw * 1E-3\n",
    "\n",
    "REC('Gusset to HSS Weld','L,Xu,w1,w2,D,theta,Aw,Mw,phiw',Tr=Vr)"
   ]
  },
  {
   "cell_type": "markdown",
   "metadata": {},
   "source": [
    "### Gusset Block Shear\n",
    "#### Case 1)"
   ]
  },
  {
   "cell_type": "code",
   "execution_count": 8,
   "metadata": {},
   "outputs": [
    {
     "name": "stdout",
     "output_type": "stream",
     "text": [
      "    Gusset Block Shear 1): Tr = 1516 kN\n",
      "       (Agv=4600, An=2040, Ut=1.0)\n"
     ]
    }
   ],
   "source": [
    "nlines,nacross,g,s,e,t = Gusset['nlines,nacross,g,s,e,t']\n",
    "hd = Bolt['hd']\n",
    "Fy,Fu = PL['Fy,Fu']\n",
    "\n",
    "An = t*((nacross-1)*g - (nacross-1)*hd)\n",
    "Agv = 2*t*((nlines-1)*s + e)\n",
    "Ut = 1.0\n",
    "Vr = phiu*(Ut*An*Fu + 0.6*Agv*(Fy+Fu)/2.) * 1E-3\n",
    "REC('Gusset Block Shear 1)','An,Agv,Ut',Tr=Vr)"
   ]
  },
  {
   "cell_type": "markdown",
   "metadata": {},
   "source": [
    "#### Case 2)"
   ]
  },
  {
   "cell_type": "code",
   "execution_count": 9,
   "metadata": {},
   "outputs": [
    {
     "name": "stdout",
     "output_type": "stream",
     "text": [
      "    Gusset Block Shear 2): Tr = 1575 kN\n",
      "       (Agv=2300, An=4300, Ut=0.8)\n"
     ]
    }
   ],
   "source": [
    "An = t*((nacross-1)*g + ((w1/2.)-(nacross-1)*g/2.))\n",
    "Agv = t*((nlines-1)*s + e)\n",
    "Ut = 0.8\n",
    "Vr = phiu*(Ut*An*Fu + 0.6*Agv*(Fy+Fu)/2.) * 1E-3\n",
    "REC('Gusset Block Shear 2)','An,Agv,Ut',Tr=Vr)"
   ]
  },
  {
   "cell_type": "markdown",
   "metadata": {},
   "source": [
    "#### Tearout"
   ]
  },
  {
   "cell_type": "code",
   "execution_count": 10,
   "metadata": {},
   "outputs": [
    {
     "name": "stdout",
     "output_type": "stream",
     "text": [
      "    Gusset tearout: Tr = 2484 kN\n",
      "       (Agv=13800)\n"
     ]
    }
   ],
   "source": [
    "Agv = t*((nlines-1)*s + e) * nacross * 2\n",
    "Vr = phiu * 0.6*Agv*(Fy+Fu)/2. * 1E-3\n",
    "REC('Gusset tearout','Agv',Tr=Vr)"
   ]
  },
  {
   "cell_type": "markdown",
   "metadata": {},
   "source": [
    "## Lap Plate\n",
    "### Lap Plate Details\n",
    "Consider the thickness of both plates together when computing the resistance.\n",
    "As the plate is symmetric, we only have to investigate one end.\n",
    "![Lap Plate Details](lap-plate-details.svg)"
   ]
  },
  {
   "cell_type": "code",
   "execution_count": 11,
   "metadata": {},
   "outputs": [],
   "source": [
    "LapPlate = Data(W = 230.,\n",
    "                L = 315.,\n",
    "                t = 10.+10.,     # include 2 plates\n",
    "                e = 40.,         # could be different than gusset\n",
    "                g = Gusset.g,    # must be the same as gusset plate\n",
    "                s = Gusset.s,\n",
    "                nlines = Gusset.nlines,\n",
    "                nacross = Gusset.nacross,\n",
    "               )"
   ]
  },
  {
   "cell_type": "markdown",
   "metadata": {},
   "source": [
    "### Lap Plate: Gross Section Yielding"
   ]
  },
  {
   "cell_type": "code",
   "execution_count": 12,
   "metadata": {},
   "outputs": [
    {
     "name": "stdout",
     "output_type": "stream",
     "text": [
      "    Lap Plate, Gross Yield: Tr = 1449 kN\n",
      "       (Ag=4600, Fy=350.0, phi=0.9)\n"
     ]
    }
   ],
   "source": [
    "wg,t = LapPlate['W,t']\n",
    "Fy = PL.Fy\n",
    "Ag = wg*t\n",
    "Tr = phi*Ag*Fy * 1E-3\n",
    "REC('Lap Plate, Gross Yield','Ag,Fy,phi',Tr=Tr)"
   ]
  },
  {
   "cell_type": "markdown",
   "metadata": {},
   "source": [
    "### Lap Plate: Net Section Fracture"
   ]
  },
  {
   "cell_type": "code",
   "execution_count": 13,
   "metadata": {},
   "outputs": [
    {
     "name": "stdout",
     "output_type": "stream",
     "text": [
      "    Lap Plate, Net Fracture: Tr = 1066 kN\n",
      "       (Ane=3160, Fu=450.0, phiu=0.75)\n"
     ]
    }
   ],
   "source": [
    "wg,t,nacross = LapPlate['W,t,nacross']\n",
    "hd = Bolt.hd\n",
    "Fu = PL.Fu\n",
    "\n",
    "wn = wg - nacross*hd\n",
    "Ane = An = wn*t\n",
    "Tr = phiu*Ane*Fu * 1E-3\n",
    "REC('Lap Plate, Net Fracture','Fu,phiu,Ane',Tr=Tr)"
   ]
  },
  {
   "cell_type": "markdown",
   "metadata": {},
   "source": [
    "### Lap Plate: Block Shear\n",
    "#### Case 1)"
   ]
  },
  {
   "cell_type": "code",
   "execution_count": 14,
   "metadata": {},
   "outputs": [
    {
     "name": "stdout",
     "output_type": "stream",
     "text": [
      "    Lap Plate Block Shear 1): Tr = 1516 kN\n",
      "       (Agv=4600, An=2040, Ut=1.0)\n"
     ]
    }
   ],
   "source": [
    "g,t,nacross,nlines,e,s = LapPlate['g,t,nacross,nlines,e,s']\n",
    "hd = Bolt.hd\n",
    "Fy,Fu = PL['Fy,Fu']\n",
    "\n",
    "An = ((nacross-1)*g - (nacross-1)*hd)*t\n",
    "Agv = (e + (nlines-1)*s)*t*2\n",
    "Ut = 1.0\n",
    "Vr = phiu*(Ut*An*Fu + 0.6*Agv*(Fy+Fu)/2.) * 1E-3\n",
    "REC('Lap Plate Block Shear 1)','An,Agv,Ut',Tr=Vr)"
   ]
  },
  {
   "cell_type": "markdown",
   "metadata": {},
   "source": [
    "#### Case 2)"
   ]
  },
  {
   "cell_type": "code",
   "execution_count": 15,
   "metadata": {},
   "outputs": [
    {
     "name": "stdout",
     "output_type": "stream",
     "text": [
      "    Lap Plate Block Shear 2): Tr = 1116 kN\n",
      "       (Agv=2300, An=2600, Ut=0.8)\n"
     ]
    }
   ],
   "source": [
    "g,t,nacross,nlines,e,s,wg = LapPlate['g,t,nacross,nlines,e,s,W']\n",
    "hd = Bolt.hd\n",
    "Fy,Fu = PL['Fy,Fu']\n",
    "\n",
    "edge = (wg - (nacross-1)*g)/2.0\n",
    "An = (wg - edge - (nacross-0.5)*hd)*t\n",
    "Agv = (e + (nlines-1)*s)*t\n",
    "Ut = 0.8\n",
    "Vr = phiu*(Ut*An*Fu + 0.6*Agv*(Fy+Fu)/2.) * 1E-3\n",
    "REC('Lap Plate Block Shear 2)','An,Agv,Ut',Tr=Vr)"
   ]
  },
  {
   "cell_type": "markdown",
   "metadata": {},
   "source": [
    "#### Tearout"
   ]
  },
  {
   "cell_type": "code",
   "execution_count": 16,
   "metadata": {},
   "outputs": [
    {
     "name": "stdout",
     "output_type": "stream",
     "text": [
      "    Lap Plate tearout: Tr = 2484 kN\n",
      "       (Agv=13800)\n"
     ]
    }
   ],
   "source": [
    "t,nlines,nacross,e,s = LapPlate['t,nlines,nacross,e,s']\n",
    "Fy,Fu = PL['Fy,Fu']\n",
    "\n",
    "An = 0\n",
    "Agv = (e + (nlines-1)*s)*t*2*nacross\n",
    "Ut = 1\n",
    "Vr = phiu*(Ut*An*Fu + 0.6*Agv*(Fy+Fu)/2.) * 1E-3\n",
    "REC('Lap Plate tearout','Agv',Tr=Vr)"
   ]
  },
  {
   "cell_type": "markdown",
   "metadata": {},
   "source": [
    "## Tongue Plate\n",
    "### Tongue Plate Details\n",
    "![Tongue Plate Details](tongue-plate-details.svg)"
   ]
  },
  {
   "cell_type": "code",
   "execution_count": 17,
   "metadata": {},
   "outputs": [],
   "source": [
    "Tongue = Data(W = Gusset.w1,\n",
    "              t = Gusset.t,\n",
    "              D = 8.,\n",
    "              nlines = Gusset.nlines,\n",
    "              nacross = Gusset.nacross,\n",
    "              e = 40.,\n",
    "              s = Gusset.s,\n",
    "              g = Gusset.g,\n",
    "              c = 45.,\n",
    "              L = 260.              \n",
    "             )\n",
    "Tongue.Lw = Tongue.L - (Tongue.c + (Tongue.nlines-1)*Tongue.s + Tongue.e)\n",
    "Tongue.Dh = SST.section(HSS.size,'D')"
   ]
  },
  {
   "cell_type": "code",
   "execution_count": 18,
   "metadata": {},
   "outputs": [
    {
     "data": {
      "text/plain": [
       "{'D': 8.0,\n",
       " 'Dh': 127.0,\n",
       " 'L': 260.0,\n",
       " 'Lw': 100.0,\n",
       " 'W': 280.0,\n",
       " 'c': 45.0,\n",
       " 'e': 40.0,\n",
       " 'g': 75.0,\n",
       " 'nacross': 3,\n",
       " 'nlines': 2,\n",
       " 's': 75.0,\n",
       " 't': 20.0}"
      ]
     },
     "execution_count": 18,
     "metadata": {},
     "output_type": "execute_result"
    }
   ],
   "source": [
    "vars(Tongue)"
   ]
  },
  {
   "cell_type": "markdown",
   "metadata": {},
   "source": [
    "### Tongue Plate - Bolted End\n",
    "#### Gross Section Yield"
   ]
  },
  {
   "cell_type": "code",
   "execution_count": 19,
   "metadata": {},
   "outputs": [
    {
     "name": "stdout",
     "output_type": "stream",
     "text": [
      "    Tongue Plate, Gross Yield: Tr = 1764 kN\n",
      "       (Ag=5600)\n"
     ]
    }
   ],
   "source": [
    "wg,t = Tongue['W,t']\n",
    "Fy = PL['Fy']\n",
    "Ag = wg*t\n",
    "Tr = phi*Ag*Fy * 1E-3\n",
    "REC('Tongue Plate, Gross Yield','Ag',Tr=Tr)"
   ]
  },
  {
   "cell_type": "markdown",
   "metadata": {},
   "source": [
    "#### Net Section Fracture"
   ]
  },
  {
   "cell_type": "code",
   "execution_count": 20,
   "metadata": {},
   "outputs": [
    {
     "name": "stdout",
     "output_type": "stream",
     "text": [
      "    Tongue Plate, Net Area Fracture (Bolted): Tr = 1404 kN\n",
      "       (An=4160)\n"
     ]
    }
   ],
   "source": [
    "wg,t,n = Tongue['W,t,nacross']\n",
    "Fu = PL['Fu']\n",
    "hd = Bolt['hd']\n",
    "\n",
    "wn = wg - n*hd\n",
    "Ane = An = wn*t\n",
    "Tr = phiu*An*Fu * 1E-3\n",
    "REC('Tongue Plate, Net Area Fracture (Bolted)','An',Tr=Tr)"
   ]
  },
  {
   "cell_type": "markdown",
   "metadata": {},
   "source": [
    "#### Block Shear\n",
    "There is no need to check block shear.  Of necessity, the thickness of the tongue plate is the same as\n",
    "the gusset plate, and as the widths and bolting details are also the same, the capacities with respect to block shear\n",
    "will also be the same."
   ]
  },
  {
   "cell_type": "markdown",
   "metadata": {},
   "source": [
    "### Tongue Plate - Welded End\n",
    "#### Shear Lag - Effective Net Area"
   ]
  },
  {
   "cell_type": "code",
   "execution_count": 21,
   "metadata": {},
   "outputs": [
    {
     "name": "stdout",
     "output_type": "stream",
     "text": [
      "    Tongue Plate, Net Area Fracture (Welded): Tr = 1144 kN\n",
      "       (An2=1500, An3=944.8, Ane=3390, w2=127.0, w3=76.5)\n"
     ]
    }
   ],
   "source": [
    "w,w2,L,t = Tongue['W,Dh,Lw,t']\n",
    "Fu = PL.Fu\n",
    "if L >= 2*w2:\n",
    "    An2 = 1.00*w2*t\n",
    "elif L >= w2:\n",
    "    An2 = 0.5*w2*t + 0.25*L*t\n",
    "else:\n",
    "    An2 = 0.75*L*t\n",
    "    \n",
    "n,g = Tongue['nacross,g']\n",
    "w3 = (w-w2)/2.\n",
    "xbar = w3/2.\n",
    "if L >= w3:\n",
    "    An3 = (1.-xbar/L)*w3*t\n",
    "else:\n",
    "    An3 = 0.50*L*t\n",
    "Ane = An2 + An3 + An3\n",
    "Tr = phiu*Ane*Fu * 1E-3\n",
    "REC('Tongue Plate, Net Area Fracture (Welded)','w2,w3,An2,An3,Ane',Tr=Tr)"
   ]
  },
  {
   "cell_type": "markdown",
   "metadata": {},
   "source": [
    "## Fasteners\n",
    "### Bolts\n",
    "#### Shear"
   ]
  },
  {
   "cell_type": "code",
   "execution_count": 22,
   "metadata": {},
   "outputs": [
    {
     "name": "stdout",
     "output_type": "stream",
     "text": [
      "    Bolts in Shear: Tr = 1051 kN\n",
      "       (Ab=314.2, Fu=830.0, d=20.0, m=2, n=6, t=20.0)\n"
     ]
    }
   ],
   "source": [
    "d,Fu,threads_intercepted = Bolt['d,Fu,threads_intercepted']\n",
    "t = min(Gusset.t,Tongue.t,2*LapPlate.t)\n",
    "n = min(Gusset.nlines*Gusset.nacross,Tongue.nlines*Tongue.nacross)\n",
    "m = 2\n",
    "Ab = 3.14159*d*d/4.\n",
    "Vr = 0.6*phib*n*m*Ab*Fu * 1E-3\n",
    "if threads_intercepted:\n",
    "    Vr *= 0.7\n",
    "REC('Bolts in Shear','n,m,d,Ab,Fu,t',Tr=Vr)"
   ]
  },
  {
   "cell_type": "markdown",
   "metadata": {
    "collapsed": true
   },
   "source": [
    "#### Bearing"
   ]
  },
  {
   "cell_type": "code",
   "execution_count": 23,
   "metadata": {},
   "outputs": [
    {
     "name": "stdout",
     "output_type": "stream",
     "text": [
      "    Bolts in Bearing: Tr = 4781 kN\n",
      "       (Fu=830.0, d=20.0, n=6, t=20.0)\n"
     ]
    }
   ],
   "source": [
    "Br = 3*phibr*n*t*d*Fu * 1E-3\n",
    "REC('Bolts in Bearing','n,t,d,Fu',Tr=Br)"
   ]
  },
  {
   "cell_type": "markdown",
   "metadata": {},
   "source": [
    "### Welds - HSS to Tongue Plate"
   ]
  },
  {
   "cell_type": "code",
   "execution_count": 24,
   "metadata": {},
   "outputs": [
    {
     "name": "stdout",
     "output_type": "stream",
     "text": [
      "    Weld metal (HSS to Plate): Tr = 497.6 kN\n",
      "       (Aw=2262, D=8.0, L=100.0, Xu=490.0)\n"
     ]
    }
   ],
   "source": [
    "L,D = Tongue['Lw,D']\n",
    "Xu,matching = Weld['Xu,matching']\n",
    "Aw = 4.*L*D*0.707\n",
    "Vr = 0.67*phiw*Aw*Xu * 1E-3\n",
    "if matching:\n",
    "    REC('Weld metal (HSS to Plate)','D,L,Aw,Xu',Tr=Vr)\n",
    "else:\n",
    "    Fu = min(HSS.Fu,PL.Fu)\n",
    "    Am = 4.*L*D\n",
    "    Vr = min(Vr,0.67*phiw*Am*Fu)\n",
    "    REC('Weld/Base metal (HSS to Plate)','D,L,Aw,Am,Xu,Fu',Tr=Vr)"
   ]
  },
  {
   "cell_type": "markdown",
   "metadata": {},
   "source": [
    "## HSS + Cover Plate\n",
    "![HSS Details](hss-details.svg)\n",
    "Each half of the HSS is a plate of width w (the meridian distance around) welded on 2 edges (perpendicular\n",
    "to the figure).  The cover plate is an additional plate welded on two edges.\n",
    "### Net Section Fracture"
   ]
  },
  {
   "cell_type": "code",
   "execution_count": 25,
   "metadata": {},
   "outputs": [
    {
     "name": "stdout",
     "output_type": "stream",
     "text": [
      "    HSS, net section fracture: Tr = 1014 kN\n",
      "       (cAne=550.0, cTr=371.2, cw=60, hAne=952.5, hTr=642.9, t=12.7, w=208.6)\n"
     ]
    }
   ],
   "source": [
    "D,t,Ag = SST.section(HSS.size,'D,T,A')\n",
    "hFy,hFu = HSS['Fy,Fu']\n",
    "tt,L = Tongue['t,Lw']\n",
    "w = (4.*(D-t) - 2*tt)/2.   # meridian distance around 1/2 of cut HSS\n",
    "if L >= 2*w:\n",
    "    An2 = 1.00*w*t\n",
    "elif L >= w:\n",
    "    An2 = 0.5*w*t + 0.25*L*t\n",
    "else:\n",
    "    An2 = 0.75*L*t\n",
    "hAne = An2\n",
    "hTr = 2*phiu*hAne*hFu * 1E-3\n",
    "\n",
    "cw,ct,cFy,cFu = Cover['w,t,Fy,Fu']  # cover plate\n",
    "if L >= 2*cw:\n",
    "    cAn2 = 1.00*cw*ct\n",
    "elif L >= cw:\n",
    "    cAn2 = 0.5*cw*ct + 0.25*L*ct\n",
    "else:\n",
    "    cAn2 = 0.75*L*ct\n",
    "cAne = cAn2\n",
    "cTr = 2*phiu*cAne*cFu * 1E-3\n",
    "Tr = hTr + cTr\n",
    "REC('HSS, net section fracture','w,t,hAne,hTr,cw,cAne,cTr',Tr=Tr)"
   ]
  },
  {
   "cell_type": "markdown",
   "metadata": {},
   "source": [
    "### Gross Section Yield"
   ]
  },
  {
   "cell_type": "code",
   "execution_count": 26,
   "metadata": {},
   "outputs": [
    {
     "name": "stdout",
     "output_type": "stream",
     "text": [
      "    HSS Gross Section Yield: Tr = 1698 kN\n",
      "       (Ag=5390)\n"
     ]
    }
   ],
   "source": [
    "Tr = phi*Ag*Fy  * 1E-3\n",
    "REC('HSS Gross Section Yield','Ag',Tr=Tr)"
   ]
  },
  {
   "cell_type": "markdown",
   "metadata": {},
   "source": [
    "## Cover Plate to HSS Weld\n",
    "Ensure that the length of the weld can develop the full strength of the cover plate."
   ]
  },
  {
   "cell_type": "code",
   "execution_count": 27,
   "metadata": {},
   "outputs": [
    {
     "name": "stdout",
     "output_type": "stream",
     "text": [
      "    Coverplate weld strength:  OK - (wTr=186.6, cTr=185.6, L=100.0, D=6.0, Aw=848.4)\n"
     ]
    }
   ],
   "source": [
    "cTr = phiu*cAne*cFu * 1E-3\n",
    "L = Tongue.Lw\n",
    "D = Cover.D\n",
    "Xu = Weld.Xu\n",
    "Aw = 2*L*D*0.707\n",
    "wTr = 0.67*phiw*Aw*Xu * 1E-3\n",
    "CHK(wTr>=cTr,'Coverplate weld strength'.format(wTr,cTr),'wTr,cTr,L,D,Aw')"
   ]
  },
  {
   "cell_type": "markdown",
   "metadata": {},
   "source": [
    "## To Do\n",
    "* Check that gusset plate doesn't cause undo flexural problems in the flange of the HSS column member."
   ]
  },
  {
   "cell_type": "markdown",
   "metadata": {},
   "source": [
    "## Summary"
   ]
  },
  {
   "cell_type": "code",
   "execution_count": 28,
   "metadata": {},
   "outputs": [
    {
     "name": "stdout",
     "output_type": "stream",
     "text": [
      "\n",
      "Summary of Tr for Designer: Typical Cross Brace\n",
      "===============================================\n",
      "\n",
      "Checks:\n",
      "-------\n",
      "    Coverplate weld strength:   OK - (wTr=186.6, cTr=185.6, L=100.0, D=6.0, Aw=848.4)\n",
      "\n",
      "Values of Tr:\n",
      "-------------\n",
      "    Gusset to HSS Weld:                       Tr = 1510 kN\n",
      "       (Aw=4293, D=6.0, L=506.0, Mw=1.0, Xu=490.0, phiw=0.67, theta=45.0, w1=280.0, w2=110.0)\n",
      "    Gusset Block Shear 1):                    Tr = 1520 kN\n",
      "       (Agv=4600, An=2040, Ut=1.0)\n",
      "    Gusset Block Shear 2):                    Tr = 1580 kN\n",
      "       (Agv=2300, An=4300, Ut=0.8)\n",
      "    Gusset tearout:                           Tr = 2480 kN\n",
      "       (Agv=13800)\n",
      "    Lap Plate, Gross Yield:                   Tr = 1450 kN\n",
      "       (Ag=4600, Fy=350.0, phi=0.9)\n",
      "    Lap Plate, Net Fracture:                  Tr = 1070 kN\n",
      "       (Ane=3160, Fu=450.0, phiu=0.75)\n",
      "    Lap Plate Block Shear 1):                 Tr = 1520 kN\n",
      "       (Agv=4600, An=2040, Ut=1.0)\n",
      "    Lap Plate Block Shear 2):                 Tr = 1120 kN\n",
      "       (Agv=2300, An=2600, Ut=0.8)\n",
      "    Lap Plate tearout:                        Tr = 2480 kN\n",
      "       (Agv=13800)\n",
      "    Tongue Plate, Gross Yield:                Tr = 1760 kN\n",
      "       (Ag=5600)\n",
      "    Tongue Plate, Net Area Fracture (Bolted): Tr = 1400 kN\n",
      "       (An=4160)\n",
      "    Tongue Plate, Net Area Fracture (Welded): Tr = 1140 kN\n",
      "       (An2=1500, An3=944.8, Ane=3390, w2=127.0, w3=76.5)\n",
      "    Bolts in Shear:                           Tr = 1050 kN\n",
      "       (Ab=314.2, Fu=830.0, d=20.0, m=2, n=6, t=20.0)\n",
      "    Bolts in Bearing:                         Tr = 4780 kN\n",
      "       (Fu=830.0, d=20.0, n=6, t=20.0)\n",
      "    Weld metal (HSS to Plate):                Tr = 498 kN  <-- governs\n",
      "       (Aw=2262, D=8.0, L=100.0, Xu=490.0)\n",
      "    HSS, net section fracture:                Tr = 1010 kN\n",
      "       (cAne=550.0, cTr=371.2, cw=60, hAne=952.5, hTr=642.9, t=12.7, w=208.6)\n",
      "    HSS Gross Section Yield:                  Tr = 1700 kN\n",
      "       (Ag=5390)\n",
      "\n",
      "    Governing Value:\n",
      "    ----------------\n",
      "       Tr = 498 kN\n"
     ]
    }
   ],
   "source": [
    "des.summary()"
   ]
  }
 ],
 "metadata": {
  "kernelspec": {
   "display_name": "Python 3",
   "language": "python",
   "name": "python3"
  },
  "language_info": {
   "codemirror_mode": {
    "name": "ipython",
    "version": 3
   },
   "file_extension": ".py",
   "mimetype": "text/x-python",
   "name": "python",
   "nbconvert_exporter": "python",
   "pygments_lexer": "ipython3",
   "version": "3.6.3"
  }
 },
 "nbformat": 4,
 "nbformat_minor": 1
}
