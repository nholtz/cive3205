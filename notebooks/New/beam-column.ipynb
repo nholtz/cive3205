{
 "cells": [
  {
   "cell_type": "code",
   "execution_count": 2,
   "metadata": {},
   "outputs": [],
   "source": [
    "from Designer import SST, show\n",
    "from math import pi, sqrt"
   ]
  },
  {
   "cell_type": "code",
   "execution_count": 4,
   "metadata": {},
   "outputs": [],
   "source": [
    "def check_1382(A,Ix,Sx,Rx,Zx,Iy,Sy,Ry,Zy,J,Cw,D,B,T,W,Dsg,\n",
    "               E=200000.,G=77000.,Fy=345.,\n",
    "               Lx=0.,Kx=1.,Ly=0.,Ky=1,Cf=0.,Mfx1=0.,Mfx2=0.,Mfy1=0.,Mfy2=0.,braced=True,display=False):\n",
    "    \"\"\"13.8.2 and 13.8.3\"\"\"\n",
    "    phi = 0.9\n",
    "    if display:\n",
    "        print('Section Properties and Dimensions:')\n",
    "        show('Dsg,A,D,B,T,W,Rx,Ry,*1E6,Ix,*1E3,Sx,Zx,*1E6,Iy,*1E3,Sy,Zy,J,*1E9,Cw,*,E,G,Fy',data=locals())\n",
    "        print('\\nMember Data:')\n",
    "        show('Lx,Kx,Ly,Ky,Cf,Mfx1,Mfx2,Mfy1,Mfy2,braced',data=locals())\n",
    "        \n",
    "    Cy = A*Fy * 1E-3\n",
    "    \n",
    "    btlim = [x/sqrt(Fy) for x in [145,170,200]]\n",
    "    hwlim = [(x/sqrt(Fy))*(1-y*Cf/(phi*Cy)) for x,y in [(1100,.39),(1700,.61),(1900,.65)]]\n",
    "    fclass = wclass = 4\n",
    "    bt = B/(2*T)\n",
    "    for i in range(1,4):\n",
    "        if bt <= btlim[i-1]:\n",
    "            fclass = i\n",
    "            break\n",
    "    hw = (D-2*T)/W\n",
    "    for i in range(1,4):\n",
    "        if hw <= hwlim[i-1]:\n",
    "            wclass = i\n",
    "            break\n",
    "    sclass = max(fclass,wclass)\n",
    "    \n",
    "    if display:\n",
    "        print('\\nSection Class:')\n",
    "        show('b/2t=bt,class 1=btlim[0],class 2=btlim[1],class 3=btlim[2],flange class=fclass',data=locals())\n",
    "        show('h/w=hw,class 1=hwlim[0],class 2=hwlim[1],class 3=hwlim[2],web class=wclass,sect. class=sclass',data=locals())\n",
    "\n",
    "    if sclass > 3:\n",
    "        return False\n"
   ]
  },
  {
   "cell_type": "code",
   "execution_count": 13,
   "metadata": {},
   "outputs": [
    {
     "name": "stdout",
     "output_type": "stream",
     "text": [
      "Section Properties and Dimensions:\n",
      "Dsg = W250x33    \n",
      "A   = 4170       \n",
      "D   = 258        \n",
      "B   = 146        \n",
      "T   = 9.1        \n",
      "W   = 6.1        \n",
      "Rx  = 108        \n",
      "Ry  = 33.7       \n",
      "Ix  = 48.9 * 1E6 \n",
      "Sx  = 379 * 1E3  \n",
      "Zx  = 424 * 1E3  \n",
      "Iy  = 4.73 * 1E6 \n",
      "Sy  = 64.7 * 1E3 \n",
      "Zy  = 99.5 * 1E3 \n",
      "J   = 98.5 * 1E3 \n",
      "Cw  = 73.2 * 1E9 \n",
      "E   = 200000     \n",
      "G   = 77000      \n",
      "Fy  = 345        \n",
      "\n",
      "Member Data:\n",
      "Lx     = 0    \n",
      "Kx     = 1    \n",
      "Ly     = 0    \n",
      "Ky     = 1    \n",
      "Cf     = 1227 \n",
      "Mfx1   = 0    \n",
      "Mfx2   = 0    \n",
      "Mfy1   = 0    \n",
      "Mfy2   = 0    \n",
      "braced = True \n",
      "\n",
      "Section Class:\n",
      "b/2t         = 8.022 \n",
      "class 1      = 7.807 \n",
      "class 2      = 9.152 \n",
      "class 3      = 10.77 \n",
      "flange class = 2     \n",
      "h/w         = 39.31 \n",
      "class 1     = 37.33 \n",
      "class 2     = 38.6  \n",
      "class 3     = 39.26 \n",
      "web class   = 4     \n",
      "sect. class = 4     \n"
     ]
    },
    {
     "data": {
      "text/plain": [
       "False"
      ]
     },
     "execution_count": 13,
     "metadata": {},
     "output_type": "execute_result"
    }
   ],
   "source": [
    "SST.get('W250x33').call(check_1382,Cf=0.9*4170*.345*.948,display=True) # check class by page 4-105"
   ]
  },
  {
   "cell_type": "code",
   "execution_count": null,
   "metadata": {},
   "outputs": [],
   "source": []
  }
 ],
 "metadata": {
  "kernelspec": {
   "display_name": "Python 3",
   "language": "python",
   "name": "python3"
  },
  "language_info": {
   "codemirror_mode": {
    "name": "ipython",
    "version": 3
   },
   "file_extension": ".py",
   "mimetype": "text/x-python",
   "name": "python",
   "nbconvert_exporter": "python",
   "pygments_lexer": "ipython3",
   "version": "3.7.5"
  }
 },
 "nbformat": 4,
 "nbformat_minor": 4
}
