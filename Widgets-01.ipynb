{
 "cells": [
  {
   "cell_type": "markdown",
   "metadata": {},
   "source": [
    "### First try for widgets\n",
    "\n",
    "See: https://ipywidgets.readthedocs.io/en/stable/examples/Using%20Interact.html"
   ]
  },
  {
   "cell_type": "code",
   "execution_count": 1,
   "metadata": {},
   "outputs": [],
   "source": [
    "from ipywidgets import interact, interactive, fixed, interact_manual\n",
    "import ipywidgets as widgets"
   ]
  },
  {
   "cell_type": "code",
   "execution_count": 8,
   "metadata": {},
   "outputs": [],
   "source": [
    "def get_shape(Dsg='Wnnnxmmm'):\n",
    "    print('Dsg =', Dsg)"
   ]
  },
  {
   "cell_type": "code",
   "execution_count": 9,
   "metadata": {},
   "outputs": [
    {
     "name": "stdout",
     "output_type": "stream",
     "text": [
      "Dsg = Wnnnxmmm\n"
     ]
    }
   ],
   "source": [
    "get_shape()"
   ]
  },
  {
   "cell_type": "code",
   "execution_count": 12,
   "metadata": {},
   "outputs": [
    {
     "name": "stdout",
     "output_type": "stream",
     "text": [
      "Dsg = 17\n"
     ]
    },
    {
     "data": {
      "text/plain": [
       "<function __main__.get_shape(Dsg='Wnnnxmmm')>"
      ]
     },
     "execution_count": 12,
     "metadata": {},
     "output_type": "execute_result"
    }
   ],
   "source": [
    "interact(get_shape,Dsg=widgets.Text(value='17',placeholder='xxx'))"
   ]
  },
  {
   "cell_type": "code",
   "execution_count": 5,
   "metadata": {},
   "outputs": [
    {
     "data": {
      "application/vnd.jupyter.widget-view+json": {
       "model_id": "9788e2de87944f02814fec7244b79ea3",
       "version_major": 2,
       "version_minor": 0
      },
      "text/html": [
       "<p>Failed to display Jupyter Widget of type <code>Text</code>.</p>\n",
       "<p>\n",
       "  If you're reading this message in the Jupyter Notebook or JupyterLab Notebook, it may mean\n",
       "  that the widgets JavaScript is still loading. If this message persists, it\n",
       "  likely means that the widgets JavaScript library is either not installed or\n",
       "  not enabled. See the <a href=\"https://ipywidgets.readthedocs.io/en/stable/user_install.html\">Jupyter\n",
       "  Widgets Documentation</a> for setup instructions.\n",
       "</p>\n",
       "<p>\n",
       "  If you're reading this message in another frontend (for example, a static\n",
       "  rendering on GitHub or <a href=\"https://nbviewer.jupyter.org/\">NBViewer</a>),\n",
       "  it may mean that your frontend doesn't currently support widgets.\n",
       "</p>\n"
      ],
      "text/plain": [
       "Text(value='', placeholder='xxx')"
      ]
     },
     "metadata": {},
     "output_type": "display_data"
    }
   ],
   "source": [
    "widgets.Text(placeholder='xxx')"
   ]
  },
  {
   "cell_type": "code",
   "execution_count": 6,
   "metadata": {},
   "outputs": [
    {
     "data": {
      "text/plain": [
       "\u001b[0;31mSignature:\u001b[0m      \u001b[0minteract_manual\u001b[0m\u001b[0;34m(\u001b[0m\u001b[0m_InteractFactory__interact_f\u001b[0m\u001b[0;34m=\u001b[0m\u001b[0;32mNone\u001b[0m\u001b[0;34m,\u001b[0m \u001b[0;34m**\u001b[0m\u001b[0mkwargs\u001b[0m\u001b[0;34m)\u001b[0m\u001b[0;34m\u001b[0m\u001b[0m\n",
       "\u001b[0;31mType:\u001b[0m           _InteractFactory\n",
       "\u001b[0;31mString form:\u001b[0m    <ipywidgets.widgets.interaction._InteractFactory object at 0x7f0380454f98>\n",
       "\u001b[0;31mFile:\u001b[0m           /usr/local/lib/python3.6/dist-packages/ipywidgets/widgets/interaction.py\n",
       "\u001b[0;31mDocstring:\u001b[0m     \n",
       "Factory for instances of :class:`interactive`.\n",
       "\n",
       "This class is needed to support options like::\n",
       "\n",
       "    >>> @interact.options(manual=True)\n",
       "    ... def greeting(text=\"World\"):\n",
       "    ...     print(\"Hello {}\".format(text))\n",
       "\n",
       "Parameters\n",
       "----------\n",
       "cls : class\n",
       "    The subclass of :class:`interactive` to construct.\n",
       "options : dict\n",
       "    A dict of options used to construct the interactive\n",
       "    function. By default, this is returned by\n",
       "    ``cls.default_options()``.\n",
       "kwargs : dict\n",
       "    A dict of **kwargs to use for widgets.\n",
       "\u001b[0;31mCall docstring:\u001b[0m\n",
       "Make the given function interactive by adding and displaying\n",
       "the corresponding :class:`interactive` widget.\n",
       "\n",
       "Expects the first argument to be a function. Parameters to this\n",
       "function are widget abbreviations passed in as keyword arguments\n",
       "(``**kwargs``). Can be used as a decorator (see examples).\n",
       "\n",
       "Returns\n",
       "-------\n",
       "f : __interact_f with interactive widget attached to it.\n",
       "\n",
       "Parameters\n",
       "----------\n",
       "__interact_f : function\n",
       "    The function to which the interactive widgets are tied. The `**kwargs`\n",
       "    should match the function signature. Passed to :func:`interactive()`\n",
       "**kwargs : various, optional\n",
       "    An interactive widget is created for each keyword argument that is a\n",
       "    valid widget abbreviation. Passed to :func:`interactive()`\n",
       "\n",
       "Examples\n",
       "--------\n",
       "Render an interactive text field that shows the greeting with the passed in\n",
       "text::\n",
       "\n",
       "    # 1. Using interact as a function\n",
       "    def greeting(text=\"World\"):\n",
       "        print(\"Hello {}\".format(text))\n",
       "    interact(greeting, text=\"IPython Widgets\")\n",
       "\n",
       "    # 2. Using interact as a decorator\n",
       "    @interact\n",
       "    def greeting(text=\"World\"):\n",
       "        print(\"Hello {}\".format(text))\n",
       "\n",
       "    # 3. Using interact as a decorator with named parameters\n",
       "    @interact(text=\"IPython Widgets\")\n",
       "    def greeting(text=\"World\"):\n",
       "        print(\"Hello {}\".format(text))\n",
       "\n",
       "Render an interactive slider widget and prints square of number::\n",
       "\n",
       "    # 1. Using interact as a function\n",
       "    def square(num=1):\n",
       "        print(\"{} squared is {}\".format(num, num*num))\n",
       "    interact(square, num=5)\n",
       "\n",
       "    # 2. Using interact as a decorator\n",
       "    @interact\n",
       "    def square(num=2):\n",
       "        print(\"{} squared is {}\".format(num, num*num))\n",
       "\n",
       "    # 3. Using interact as a decorator with named parameters\n",
       "    @interact(num=5)\n",
       "    def square(num=2):\n",
       "        print(\"{} squared is {}\".format(num, num*num))\n"
      ]
     },
     "metadata": {},
     "output_type": "display_data"
    }
   ],
   "source": [
    "interact_manual?"
   ]
  },
  {
   "cell_type": "code",
   "execution_count": null,
   "metadata": {},
   "outputs": [],
   "source": []
  }
 ],
 "metadata": {
  "kernelspec": {
   "display_name": "Python 3",
   "language": "python",
   "name": "python3"
  },
  "language_info": {
   "codemirror_mode": {
    "name": "ipython",
    "version": 3
   },
   "file_extension": ".py",
   "mimetype": "text/x-python",
   "name": "python",
   "nbconvert_exporter": "python",
   "pygments_lexer": "ipython3",
   "version": "3.6.3"
  }
 },
 "nbformat": 4,
 "nbformat_minor": 2
}
