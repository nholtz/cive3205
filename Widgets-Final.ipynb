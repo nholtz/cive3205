{
 "cells": [
  {
   "cell_type": "markdown",
   "metadata": {},
   "source": [
    "### Third try for widgets\n",
    "\n",
    "See: https://ipywidgets.readthedocs.io/en/stable/examples/Using%20Interact.html\n",
    "\n",
    "and: https://ipywidgets.readthedocs.io/en/stable/examples/Widget%20Basics.html\n",
    "\n",
    "This notebook is a sandbox for exploring various techniques for developing widgets for design programs.  This may be the final version before merging all this stuff into the design lib"
   ]
  },
  {
   "cell_type": "code",
   "execution_count": 1,
   "metadata": {},
   "outputs": [],
   "source": [
    "from math import sqrt, pi\n",
    "from DesignerWidgets import DesignInteract, show"
   ]
  },
  {
   "cell_type": "code",
   "execution_count": 2,
   "metadata": {},
   "outputs": [],
   "source": [
    "def do13_6(Dsg,Fy,Fu,Zx,Sx,Ix,Iy,J,Cw,D,B,T,W,L,w2=1):\n",
    "    show('Dsg,Fy,Fu,*10^3,Zx,Sx,*10^6,Ix,Iy,*10^3,J,*10^9,Cw,*,D,B,T,W,L,w2')\n",
    "    B_2T = (B/2.)/T\n",
    "    fclass = 4\n",
    "    if B_2T <= 145/sqrt(Fy):\n",
    "        fclass = 1\n",
    "    elif B_2T <= 170/sqrt(Fy):\n",
    "        fclass = 2\n",
    "    elif B_2T <= 200/sqrt(Fy):\n",
    "        fclass = 3\n",
    "    H_W = (D-2*T)/W\n",
    "    wclass = 4\n",
    "    if H_W <= 1100/sqrt(Fy):\n",
    "        wclass = 1\n",
    "    elif H_W <= 1700/sqrt(Fy):\n",
    "        wclass = 2\n",
    "    elif H_W <= 1900/sqrt(Fy):\n",
    "        wclass = 3\n",
    "    sclass = max(fclass,wclass)\n",
    "    show('B/2T=B_2T,fclass,H/W=H_W,wclass,sclass')\n",
    "    \n",
    "    E = 200000.\n",
    "    G = 77000.\n",
    "    phi = 0.9\n",
    "    \n",
    "    if sclass > 3:\n",
    "        raise Exception('Class 4 sections not yet implemented.')\n",
    "\n",
    "    Mp = Zx * Fy * 1E-6\n",
    "    My = Sx * Fy * 1E-6\n",
    "    if L <= 0.:\n",
    "        if sclass <= 2:\n",
    "            Mr = phi*Mp\n",
    "            show('Mp,Mr')\n",
    "            return\n",
    "        elif sclass == 3:\n",
    "            Mr = phi*My\n",
    "            show('My,Mr')\n",
    "            return\n",
    "    \n",
    "    P = E*Iy*G*J\n",
    "    Q = Iy*Cw*(pi*E/L)**2\n",
    "    Mu = (w2*pi/L)*sqrt(P+Q) * 1E-6\n",
    "    show('*10^21,P,Q,*,Mu')\n",
    "    if sclass <= 2:\n",
    "        if Mu >= 0.67*Mp:\n",
    "            Mr = min(phi*Mp,1.15*phi*Mp*(1-0.28*Mp/Mu))\n",
    "        else:\n",
    "            Mr = phi*Mu\n",
    "        show('Mp,Mr')\n",
    "    elif sclass == 3:\n",
    "        if Mu >= 0.67*My:\n",
    "            Mr = min(phi*My,1.15*phi*My*(1-0.28*My/Mu))\n",
    "        else:\n",
    "            Mr = phi*Mu\n",
    "        show('My,Mr')\n",
    "    else:\n",
    "        raise Exception('''See. I told you it wasn't implemented''')\n",
    "    "
   ]
  },
  {
   "cell_type": "code",
   "execution_count": 3,
   "metadata": {},
   "outputs": [
    {
     "data": {
      "application/vnd.jupyter.widget-view+json": {
       "model_id": "0c17e504a6eb446388761946dfae011e",
       "version_major": 2,
       "version_minor": 0
      },
      "text/plain": [
       "VBox(children=(FloatText(value=345.0, description='Fy:'), FloatText(value=450.0, description='Fu:'), HBox(chil…"
      ]
     },
     "metadata": {},
     "output_type": "display_data"
    },
    {
     "data": {
      "application/vnd.jupyter.widget-view+json": {
       "model_id": "373fd4c365044d4b9bdd22fb5c59104a",
       "version_major": 2,
       "version_minor": 0
      },
      "text/plain": [
       "Output(layout=Layout(border='1px solid black'))"
      ]
     },
     "metadata": {},
     "output_type": "display_data"
    }
   ],
   "source": [
    "w = DesignInteract(do13_6)\n",
    "w.defWidgets('Fy=345.,Fu=450.')\n",
    "w.defWidgets('Zx,Sx,Ix,Iy,J,Cw,D,B,T,W',properties='W610x82')\n",
    "w.defWidgets('L,w2')\n",
    "\n",
    "w.interact(do13_6)"
   ]
  },
  {
   "cell_type": "code",
   "execution_count": null,
   "metadata": {},
   "outputs": [],
   "source": []
  }
 ],
 "metadata": {
  "kernelspec": {
   "display_name": "Python 3",
   "language": "python",
   "name": "python3"
  },
  "language_info": {
   "codemirror_mode": {
    "name": "ipython",
    "version": 3
   },
   "file_extension": ".py",
   "mimetype": "text/x-python",
   "name": "python",
   "nbconvert_exporter": "python",
   "pygments_lexer": "ipython3",
   "version": "3.6.7"
  }
 },
 "nbformat": 4,
 "nbformat_minor": 2
}
