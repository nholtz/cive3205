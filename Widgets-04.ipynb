{
 "cells": [
  {
   "cell_type": "markdown",
   "metadata": {},
   "source": [
    "### Third try for widgets\n",
    "\n",
    "See: https://ipywidgets.readthedocs.io/en/stable/examples/Using%20Interact.html\n",
    "\n",
    "and: https://ipywidgets.readthedocs.io/en/stable/examples/Widget%20Basics.html\n",
    "\n",
    "This notebook is a sandbox for exploring various techniques for developing widgets for design programs."
   ]
  },
  {
   "cell_type": "code",
   "execution_count": 5,
   "metadata": {},
   "outputs": [],
   "source": [
    "from ipywidgets import interact, interactive, fixed, interact_manual\n",
    "import ipywidgets as widgets\n",
    "from IPython.display import display\n",
    "\n",
    "from Designer import SST,show\n",
    "dshow = show"
   ]
  },
  {
   "cell_type": "code",
   "execution_count": 6,
   "metadata": {},
   "outputs": [],
   "source": [
    "class What(object):\n",
    "    \n",
    "    def __init__(self):\n",
    "        self.section = None\n",
    "        self.data = {}\n",
    "        self.widgets = {}\n",
    "        self.properties = set()\n",
    "        self.widget_list = []\n",
    "        self.output_widget = None\n",
    "        self.main_widget = None\n",
    "        self.compute_button = None\n",
    "        self.defaults = {}\n",
    "        \n",
    "    def setDefaults(self,**kwargs):\n",
    "        self.defaults.update(kwargs)\n",
    "    \n",
    "    def _build(self):\n",
    "        self.output_widget = widgets.Output(layout={'border': '1px solid black'})\n",
    "        with self.output_widget:\n",
    "            b = widgets.Button(description='Compute!',tooltip='Click to perform calculations')\n",
    "            b.on_click(self._on_compute_clicked)\n",
    "            self.compute_button = b\n",
    "            allwidg = widgets.VBox(self.widget_list+[b])\n",
    "            self.main_widget = allwidg\n",
    "    \n",
    "    def _on_compute_clicked(self,b):\n",
    "        \"\"\"Examine the arguments of the callable and drag them out of data.\"\"\"\n",
    "        with self.output_widget:\n",
    "            for key,w in self.widgets.items():\n",
    "                self.data[key] = w.value\n",
    "            self.callable()\n",
    "        \n",
    "    def interact(self,callable):\n",
    "        self._build()\n",
    "        self.callable = callable\n",
    "        self._updateWidgetValues()\n",
    "        display(self.main_widget)\n",
    "        display(self.output_widget)\n",
    "        \n",
    "    def _updateWidgetValues(self):\n",
    "        pass\n",
    "        \n",
    "    def _floatWidgets(self,text):\n",
    "        ans = []\n",
    "        for key in text.split(','):\n",
    "            key = key.strip()\n",
    "            val = 0.\n",
    "            if '=' in key:\n",
    "                k,v = key.split('=',1)\n",
    "                key = k.strip()\n",
    "                val = float(eval(v))\n",
    "                self.defaults[key] = val\n",
    "            w = widgets.FloatText(value=val,description=key+':')\n",
    "            ans.append((key,w))\n",
    "        return ans\n",
    "    \n",
    "    def _on_load_clicked(self,b):\n",
    "        pass\n",
    "    \n",
    "    def defWidgets(self,text,properties=False):\n",
    "        wlist = []\n",
    "        if properties:\n",
    "            dwidg = widgets.Text(value='W250x80',\n",
    "                               placeholder='Shape Designation',\n",
    "                               description='Dsg:',\n",
    "                              tooltip='A shape designation to lookup for values.')\n",
    "            pbut = widgets.Button(description='Load Properties',\n",
    "                                   tooltip='Click to load properties into entries below.')\n",
    "            pbut.on_click(self._on_load_clicked)\n",
    "            top = widgets.HBox([dwidg,pbut])\n",
    "            wlist.append(top)\n",
    "        for key,w in self._floatWidgets(text):\n",
    "            self.widgets[key] = w\n",
    "            if properties:\n",
    "                self.properties.add(key)\n",
    "            wlist.append(w)\n",
    "        self.widget_list.extend(wlist)\n",
    "        \n",
    "    def show(self,text):\n",
    "        dshow(text,data=self.data)"
   ]
  },
  {
   "cell_type": "code",
   "execution_count": 7,
   "metadata": {},
   "outputs": [],
   "source": [
    "w = What()\n",
    "w.defWidgets('Fy=345.,Fu=450.')\n",
    "w.defWidgets('Zx,Sx,Ix,Iy,J,Cw,D,B,T,W',properties=True)\n",
    "w.defWidgets('L,M1,M2')"
   ]
  },
  {
   "cell_type": "code",
   "execution_count": 10,
   "metadata": {},
   "outputs": [
    {
     "data": {
      "application/vnd.jupyter.widget-view+json": {
       "model_id": "f511188e556e4cdf962b6ba54d1415b1",
       "version_major": 2,
       "version_minor": 0
      },
      "text/plain": [
       "VBox(children=(FloatText(value=345.0, description='Fy:'), FloatText(value=450.0, description='Fu:'), HBox(chil…"
      ]
     },
     "metadata": {},
     "output_type": "display_data"
    },
    {
     "data": {
      "application/vnd.jupyter.widget-view+json": {
       "model_id": "5808735bdb8f4dc2bff1590cf43ed6c8",
       "version_major": 2,
       "version_minor": 0
      },
      "text/plain": [
       "Output(layout=Layout(border='1px solid black'))"
      ]
     },
     "metadata": {},
     "output_type": "display_data"
    }
   ],
   "source": [
    "w.interact(lambda: w.show('Fy,Fu'))"
   ]
  },
  {
   "cell_type": "code",
   "execution_count": 9,
   "metadata": {},
   "outputs": [
    {
     "data": {
      "text/plain": [
       "{'Fy': 345.0,\n",
       " 'Fu': 450.0,\n",
       " 'Zx': 0.0,\n",
       " 'Sx': 0.0,\n",
       " 'Ix': 0.0,\n",
       " 'Iy': 0.0,\n",
       " 'J': 0.0,\n",
       " 'Cw': 0.0,\n",
       " 'D': 0.0,\n",
       " 'B': 0.0,\n",
       " 'T': 0.0,\n",
       " 'W': 0.0,\n",
       " 'L': 0.0,\n",
       " 'M1': 0.0,\n",
       " 'M2': 0.0}"
      ]
     },
     "execution_count": 9,
     "metadata": {},
     "output_type": "execute_result"
    }
   ],
   "source": [
    "w.data"
   ]
  },
  {
   "cell_type": "code",
   "execution_count": 2,
   "metadata": {},
   "outputs": [],
   "source": [
    "SECT = None   # holds the properties of one shape load from the steel tables\n",
    "WIDG = {}     # holds all the value widgets, indexed by property name\n",
    "\n",
    "def _makeFloat(key):\n",
    "    w = widgets.FloatText( value=0.0, description=key+':')\n",
    "    global WIDG\n",
    "    WIDG[key] = w\n",
    "    return w\n",
    "\n",
    "inputs = [_makeFloat(x.strip()) for x in 'Sx,Zx,Ix,Iy,J,Cw,D,B,T,W'.split(',')]\n",
    "\n",
    "output = widgets.Output(layout={'border': '1px solid black'})"
   ]
  },
  {
   "cell_type": "code",
   "execution_count": 3,
   "metadata": {},
   "outputs": [],
   "source": [
    "@output.capture(clear_output=True)\n",
    "def on_compute_clicked(b):\n",
    "    global SECT\n",
    "    global WIDG\n",
    "    for k,w in WIDG.items():\n",
    "        if hasattr(SECT,k):\n",
    "            setattr(SECT,k,w.value)\n",
    "    show('Dsg,*10^3,Sx,Zx,*10^6,Ix,Iy,*10^3,J,*10^9,Cw,*,D,B,T,W',object=SECT)"
   ]
  },
  {
   "cell_type": "code",
   "execution_count": 4,
   "metadata": {},
   "outputs": [],
   "source": [
    "@output.capture(clear_output=True)\n",
    "def on_load_clicked(b):\n",
    "    global WIDG\n",
    "    with output:\n",
    "        Dsg = WIDG['Dsg'].value\n",
    "        ##print('Dsg =',Dsg)\n",
    "        global SECT\n",
    "        SECT = SST.section(Dsg)\n",
    "        for key,w in WIDG.items():  # propagate values to widgets\n",
    "            if hasattr(SECT,key):\n",
    "                w.value = getattr(SECT,key)\n",
    "    ##output.clear_output()"
   ]
  },
  {
   "cell_type": "code",
   "execution_count": 5,
   "metadata": {},
   "outputs": [
    {
     "data": {
      "application/vnd.jupyter.widget-view+json": {
       "model_id": "582ef5e763a448998c44cbdecd49151a",
       "version_major": 2,
       "version_minor": 0
      },
      "text/plain": [
       "VBox(children=(HBox(children=(Text(value='W250x80', description='Dsg:', placeholder='Shape Designation'), Butt…"
      ]
     },
     "metadata": {},
     "output_type": "display_data"
    },
    {
     "data": {
      "application/vnd.jupyter.widget-view+json": {
       "model_id": "7fdfbed2231647dea1f743bef6867dd9",
       "version_major": 2,
       "version_minor": 0
      },
      "text/plain": [
       "Output(layout=Layout(border='1px solid black'))"
      ]
     },
     "metadata": {},
     "output_type": "display_data"
    }
   ],
   "source": [
    "WIDG['Dsg'] = widgets.Text(value='W250x80',\n",
    "                           placeholder='Shape Designation',\n",
    "                           description='Dsg:',\n",
    "                          tooltip='A shape designation to lookup for values.')\n",
    "lb = widgets.Button(description='Load Properties',\n",
    "                   tooltip='Click to load properties into entries below.')\n",
    "lb.on_click(on_load_clicked)\n",
    "top = widgets.HBox([WIDG['Dsg'],lb])\n",
    "b = widgets.Button(description='Compute!',tooltip='Click to perform calculations')\n",
    "b.on_click(on_compute_clicked)\n",
    "allwidg = widgets.VBox([top]+inputs+[b])\n",
    "display(allwidg)\n",
    "display(output)"
   ]
  },
  {
   "cell_type": "code",
   "execution_count": null,
   "metadata": {},
   "outputs": [],
   "source": []
  }
 ],
 "metadata": {
  "kernelspec": {
   "display_name": "Python 3",
   "language": "python",
   "name": "python3"
  },
  "language_info": {
   "codemirror_mode": {
    "name": "ipython",
    "version": 3
   },
   "file_extension": ".py",
   "mimetype": "text/x-python",
   "name": "python",
   "nbconvert_exporter": "python",
   "pygments_lexer": "ipython3",
   "version": "3.6.3"
  }
 },
 "nbformat": 4,
 "nbformat_minor": 2
}
