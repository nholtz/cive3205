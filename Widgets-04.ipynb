{
 "cells": [
  {
   "cell_type": "markdown",
   "metadata": {},
   "source": [
    "### Third try for widgets\n",
    "\n",
    "See: https://ipywidgets.readthedocs.io/en/stable/examples/Using%20Interact.html\n",
    "\n",
    "and: https://ipywidgets.readthedocs.io/en/stable/examples/Widget%20Basics.html\n",
    "\n",
    "This notebook is a sandbox for exploring various techniques for developing widgets for design programs."
   ]
  },
  {
   "cell_type": "code",
   "execution_count": 1,
   "metadata": {},
   "outputs": [],
   "source": [
    "import inspect"
   ]
  },
  {
   "cell_type": "code",
   "execution_count": 17,
   "metadata": {},
   "outputs": [],
   "source": [
    "def foo(a,b,c,*d,e=1,f=3,**k):\n",
    "    pass\n",
    "def bar(a,b,c,e=1,f=3):\n",
    "    pass"
   ]
  },
  {
   "cell_type": "code",
   "execution_count": 18,
   "metadata": {},
   "outputs": [
    {
     "data": {
      "text/plain": [
       "FullArgSpec(args=['a', 'b', 'c'], varargs='d', varkw='k', defaults=None, kwonlyargs=['e', 'f'], kwonlydefaults={'e': 1, 'f': 3}, annotations={})"
      ]
     },
     "execution_count": 18,
     "metadata": {},
     "output_type": "execute_result"
    }
   ],
   "source": [
    "x = inspect.getfullargspec(foo)\n",
    "x"
   ]
  },
  {
   "cell_type": "code",
   "execution_count": 19,
   "metadata": {},
   "outputs": [
    {
     "data": {
      "text/plain": [
       "FullArgSpec(args=['a', 'b', 'c', 'e', 'f'], varargs=None, varkw=None, defaults=(1, 3), kwonlyargs=[], kwonlydefaults=None, annotations={})"
      ]
     },
     "execution_count": 19,
     "metadata": {},
     "output_type": "execute_result"
    }
   ],
   "source": [
    "y = inspect.getfullargspec(bar)\n",
    "y"
   ]
  },
  {
   "cell_type": "code",
   "execution_count": 24,
   "metadata": {},
   "outputs": [],
   "source": [
    "from ipywidgets import interact, interactive, fixed, interact_manual\n",
    "import ipywidgets as widgets\n",
    "from IPython.display import display\n",
    "\n",
    "from Designer import SST,show"
   ]
  },
  {
   "cell_type": "code",
   "execution_count": 37,
   "metadata": {},
   "outputs": [],
   "source": [
    "class What(object):\n",
    "    \n",
    "    def __init__(self):\n",
    "        self.section = None\n",
    "        self.data = {}\n",
    "        self.widgets = {}\n",
    "        self.properties = set()\n",
    "        self.widget_list = []\n",
    "        self.output_widget = None\n",
    "        self.main_widget = None\n",
    "        self.dsg_widget = None\n",
    "        self.compute_button = None\n",
    "        self.defaults = {}\n",
    "        \n",
    "    def setDefaults(self,**kwargs):\n",
    "        self.defaults.update(kwargs)\n",
    "    \n",
    "    def _build(self):\n",
    "        self.output_widget = widgets.Output(layout={'border': '1px solid black'})\n",
    "        with self.output_widget:\n",
    "            b = widgets.Button(description='Compute!',tooltip='Click to perform calculations')\n",
    "            b.on_click(self._on_compute_clicked)\n",
    "            self.compute_button = b\n",
    "            allwidg = widgets.VBox(self.widget_list+[b])\n",
    "            self.main_widget = allwidg\n",
    "    \n",
    "    def _on_compute_clicked(self,b):\n",
    "        \"\"\"Examine the arguments of the callable and drag them out of data.\"\"\"\n",
    "        with self.output_widget:\n",
    "            for key,w in self.widgets.items():\n",
    "                self.data[key] = w.value\n",
    "            self.callable(*[self.data[k] for k in self.callable_args])\n",
    "            \n",
    "    def _install_callable(self,callable):\n",
    "        args = inspect.getfullargspec(callable)\n",
    "        assert args.varargs is None and args.varkw is None\n",
    "        if args.defaults:\n",
    "            for k,v in zip(args.args[len(args.args)-len(args.defaults):],args.defaults):\n",
    "                self.defaults[k] = v\n",
    "        self.callable_args = args.args\n",
    "        self.callable = callable\n",
    "        \n",
    "    def interact(self,callable):\n",
    "        self._build()\n",
    "        self._install_callable(callable)\n",
    "        self._updateWidgetValues()\n",
    "        display(self.main_widget)\n",
    "        display(self.output_widget)\n",
    "        \n",
    "    def _updateWidgetValues(self):\n",
    "        for k,w in self.widgets.items():\n",
    "            if k in self.data:\n",
    "                w.value = self.data[k]\n",
    "            elif k in self.defaults:\n",
    "                w.value = self.defaults[k]\n",
    "        \n",
    "    def _floatWidgets(self,text):\n",
    "        ans = []\n",
    "        for key in text.split(','):\n",
    "            key = key.strip()\n",
    "            val = 0.\n",
    "            if '=' in key:\n",
    "                k,v = key.split('=',1)\n",
    "                key = k.strip()\n",
    "                val = float(eval(v))\n",
    "                self.defaults[key] = val\n",
    "            w = widgets.FloatText(value=val,description=key+':')\n",
    "            ans.append((key,w))\n",
    "        return ans\n",
    "    \n",
    "    def _on_load_clicked(self,b):\n",
    "        with self.output_widget:\n",
    "            Dsg = self.dsg_widget.value\n",
    "            section = SST.section(Dsg)\n",
    "            for p in self.properties:\n",
    "                self.data[p] = section[p]\n",
    "            self._updateWidgetValues()\n",
    "    \n",
    "    def defWidgets(self,text,properties=False):\n",
    "        wlist = []\n",
    "        if properties:\n",
    "            dwidg = widgets.Text(value='W250x80',\n",
    "                               placeholder='Shape Designation',\n",
    "                               description='Dsg:',\n",
    "                              tooltip='A shape designation to lookup for values.')\n",
    "            pbut = widgets.Button(description='Load Properties',\n",
    "                                   tooltip='Click to load properties into entries below.')\n",
    "            pbut.on_click(self._on_load_clicked)\n",
    "            top = widgets.HBox([dwidg,pbut])\n",
    "            wlist.append(top)\n",
    "            self.dsg_widget = dwidg\n",
    "        for key,w in self._floatWidgets(text):\n",
    "            self.widgets[key] = w\n",
    "            if properties:\n",
    "                self.properties.add(key)\n",
    "            wlist.append(w)\n",
    "        self.widget_list.extend(wlist)\n",
    "        \n",
    "    def show(self,text):\n",
    "        show(text,data=self.data)"
   ]
  },
  {
   "cell_type": "code",
   "execution_count": 49,
   "metadata": {},
   "outputs": [],
   "source": [
    "def doit(Zx,Fu,L=1000.,Fy=350.):\n",
    "    show('Fy,Fu,*10^3,Zx,*,L')"
   ]
  },
  {
   "cell_type": "code",
   "execution_count": 50,
   "metadata": {},
   "outputs": [
    {
     "data": {
      "application/vnd.jupyter.widget-view+json": {
       "model_id": "62d43a27f97447819d22b07e5189ff0b",
       "version_major": 2,
       "version_minor": 0
      },
      "text/plain": [
       "VBox(children=(FloatText(value=350.0, description='Fy:'), FloatText(value=450.0, description='Fu:'), HBox(chil…"
      ]
     },
     "metadata": {},
     "output_type": "display_data"
    },
    {
     "data": {
      "application/vnd.jupyter.widget-view+json": {
       "model_id": "a3271541d75a4008968cfc3691d9e25d",
       "version_major": 2,
       "version_minor": 0
      },
      "text/plain": [
       "Output(layout=Layout(border='1px solid black'))"
      ]
     },
     "metadata": {},
     "output_type": "display_data"
    }
   ],
   "source": [
    "w = What()\n",
    "w.defWidgets('Fy=345.,Fu=450.')\n",
    "w.defWidgets('Zx,Sx,Ix,Iy,J,Cw,D,B,T,W',properties=True)\n",
    "w.defWidgets('L,M1,M2')\n",
    "\n",
    "w.interact(doit)"
   ]
  },
  {
   "cell_type": "code",
   "execution_count": null,
   "metadata": {},
   "outputs": [],
   "source": []
  }
 ],
 "metadata": {
  "kernelspec": {
   "display_name": "Python 3",
   "language": "python",
   "name": "python3"
  },
  "language_info": {
   "codemirror_mode": {
    "name": "ipython",
    "version": 3
   },
   "file_extension": ".py",
   "mimetype": "text/x-python",
   "name": "python",
   "nbconvert_exporter": "python",
   "pygments_lexer": "ipython3",
   "version": "3.6.3"
  }
 },
 "nbformat": 4,
 "nbformat_minor": 2
}
