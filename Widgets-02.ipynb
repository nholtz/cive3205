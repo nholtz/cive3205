{
 "cells": [
  {
   "cell_type": "markdown",
   "metadata": {},
   "source": [
    "### Second try for widgets\n",
    "\n",
    "See: https://ipywidgets.readthedocs.io/en/stable/examples/Using%20Interact.html\n",
    "\n",
    "and: https://ipywidgets.readthedocs.io/en/stable/examples/Widget%20Basics.html"
   ]
  },
  {
   "cell_type": "code",
   "execution_count": 1,
   "metadata": {},
   "outputs": [],
   "source": [
    "from ipywidgets import interact, interactive, fixed, interact_manual\n",
    "import ipywidgets as widgets\n",
    "from IPython.display import display\n",
    "\n",
    "from Designer import SST,show"
   ]
  },
  {
   "cell_type": "code",
   "execution_count": 2,
   "metadata": {},
   "outputs": [
    {
     "data": {
      "application/vnd.jupyter.widget-view+json": {
       "model_id": "cf135ac43a0f426abd32b21990b6d42c",
       "version_major": 2,
       "version_minor": 0
      },
      "text/plain": [
       "interactive(children=(Text(value='W250x80', description='Dsg'), Button(description='Load Properties', style=Bu…"
      ]
     },
     "metadata": {},
     "output_type": "display_data"
    }
   ],
   "source": [
    "SECT = None\n",
    "\n",
    "@interact.options(manual=True,manual_name='Load Properties')\n",
    "def get_shape(Dsg='W250x80'):\n",
    "    print('Dsg =', Dsg)\n",
    "    global SECT\n",
    "    SECT = SST.section(Dsg)\n",
    "    print(vars(SECT))"
   ]
  },
  {
   "cell_type": "code",
   "execution_count": 7,
   "metadata": {},
   "outputs": [],
   "source": [
    "inputs = [ widgets.FloatText( value=0.0, description='D'),\n",
    "           widgets.FloatText( value=0.0, description='B'),\n",
    "           widgets.FloatText( value=0.0, description='T'),\n",
    "           widgets.FloatText( value=0.0, description='W'),\n",
    "           widgets.FloatText( value=0.0, description='A'),\n",
    "           widgets.FloatText( value=0.0, description='Zx'),\n",
    "           widgets.FloatText( value=0.0, description='Ix'),\n",
    "          ]\n",
    "widg = {}\n",
    "for w in inputs:\n",
    "    k = w.description\n",
    "    widg[k] = w\n",
    "    if hasattr(SECT,k):\n",
    "        w.value = getattr(SECT,k)"
   ]
  },
  {
   "cell_type": "code",
   "execution_count": 8,
   "metadata": {},
   "outputs": [
    {
     "data": {
      "text/plain": [
       "{'D': FloatText(value=256.0, description='D'),\n",
       " 'B': FloatText(value=255.0, description='B'),\n",
       " 'T': FloatText(value=15.6, description='T'),\n",
       " 'W': FloatText(value=9.4, description='W'),\n",
       " 'A': FloatText(value=10200.0, description='A'),\n",
       " 'Zx': FloatText(value=1090000.0, description='Zx'),\n",
       " 'Ix': FloatText(value=126000000.0, description='Ix')}"
      ]
     },
     "execution_count": 8,
     "metadata": {},
     "output_type": "execute_result"
    }
   ],
   "source": [
    "widg"
   ]
  },
  {
   "cell_type": "code",
   "execution_count": 9,
   "metadata": {},
   "outputs": [],
   "source": [
    "out = widgets.Output(layout={'border': '1px solid black'})\n",
    "\n",
    "@out.capture(clear_output=True)\n",
    "def on_compute_clicked(b):\n",
    "    global SECT\n",
    "    global widg\n",
    "    for k,w in widg.items():\n",
    "        if hasattr(SECT,k):\n",
    "            setattr(SECT,k,w.value)\n",
    "    show('D,B,T,W,A,*1e3,Zx,*1e6,Ix,*',object=SECT)"
   ]
  },
  {
   "cell_type": "code",
   "execution_count": 10,
   "metadata": {},
   "outputs": [
    {
     "data": {
      "application/vnd.jupyter.widget-view+json": {
       "model_id": "494878f51c50443ea21ea3e3990e3edb",
       "version_major": 2,
       "version_minor": 0
      },
      "text/plain": [
       "VBox(children=(FloatText(value=256.0, description='D'), FloatText(value=255.0, description='B'), FloatText(val…"
      ]
     },
     "metadata": {},
     "output_type": "display_data"
    },
    {
     "data": {
      "application/vnd.jupyter.widget-view+json": {
       "model_id": "678a0000a017422895d86f8d8722853a",
       "version_major": 2,
       "version_minor": 0
      },
      "text/plain": [
       "Output(layout=Layout(border='1px solid black'))"
      ]
     },
     "metadata": {},
     "output_type": "display_data"
    }
   ],
   "source": [
    "b = widgets.Button(description='Compute!',tooltip='Click to perform calculations')\n",
    "b.on_click(on_compute_clicked)\n",
    "allwidg = widgets.VBox(inputs+[b])\n",
    "display(allwidg)\n",
    "display(out)"
   ]
  },
  {
   "cell_type": "code",
   "execution_count": null,
   "metadata": {},
   "outputs": [],
   "source": []
  }
 ],
 "metadata": {
  "kernelspec": {
   "display_name": "Python 3",
   "language": "python",
   "name": "python3"
  },
  "language_info": {
   "codemirror_mode": {
    "name": "ipython",
    "version": 3
   },
   "file_extension": ".py",
   "mimetype": "text/x-python",
   "name": "python",
   "nbconvert_exporter": "python",
   "pygments_lexer": "ipython3",
   "version": "3.6.7"
  }
 },
 "nbformat": 4,
 "nbformat_minor": 2
}
